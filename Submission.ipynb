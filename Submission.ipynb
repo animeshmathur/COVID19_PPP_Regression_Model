{
 "cells": [
  {
   "cell_type": "code",
   "execution_count": 1,
   "metadata": {},
   "outputs": [],
   "source": [
    "import pickle\n",
    "import pandas as pd\n",
    "import numpy as np"
   ]
  },
  {
   "cell_type": "code",
   "execution_count": 2,
   "metadata": {},
   "outputs": [],
   "source": [
    "model = pickle.load(open('./models/xgboost_regressor_1.pkl', 'rb'))"
   ]
  },
  {
   "cell_type": "code",
   "execution_count": 3,
   "metadata": {},
   "outputs": [],
   "source": [
    "# preprocessors = pickle.load(open('preprocessors.pkl', 'rb'))\n",
    "preprocessors = pickle.load(open('preprocessors_for_grouped_industry.pkl', 'rb'))"
   ]
  },
  {
   "cell_type": "code",
   "execution_count": 4,
   "metadata": {},
   "outputs": [],
   "source": [
    "def split_loan_range(df):\n",
    "    df['Loan_min'] = df['LoanRange'].map({\n",
    "        '$16300-27300': 16300, '$7964-16300': 7964, '$0-7964': 0, '$56313-150000':56313,\n",
    "           '$27300-56313': 27300, '$150,000-350,000': 150000, '$350,000-1 million':350000,\n",
    "           '$1-2 million': 1000000, '$2-5 million': 2000000, '$5-10 million': 5000000\n",
    "    })\n",
    "\n",
    "    df['Loan_max'] = df['LoanRange'].map({\n",
    "        '$16300-27300': 27300, '$7964-16300': 16300, '$0-7964': 7964, '$56313-150000':150000,\n",
    "           '$27300-56313': 56313, '$150,000-350,000': 350000, '$350,000-1 million':1000000,\n",
    "           '$1-2 million': 2000000, '$2-5 million': 5000000, '$5-10 million': 10000000\n",
    "    })\n",
    "    df = df.drop(columns=['LoanRange'], axis=1)\n",
    "    return df"
   ]
  },
  {
   "cell_type": "code",
   "execution_count": 10,
   "metadata": {},
   "outputs": [
    {
     "data": {
      "text/html": [
       "<div>\n",
       "<style scoped>\n",
       "    .dataframe tbody tr th:only-of-type {\n",
       "        vertical-align: middle;\n",
       "    }\n",
       "\n",
       "    .dataframe tbody tr th {\n",
       "        vertical-align: top;\n",
       "    }\n",
       "\n",
       "    .dataframe thead th {\n",
       "        text-align: right;\n",
       "    }\n",
       "</style>\n",
       "<table border=\"1\" class=\"dataframe\">\n",
       "  <thead>\n",
       "    <tr style=\"text-align: right;\">\n",
       "      <th></th>\n",
       "      <th>Unnamed: 0</th>\n",
       "      <th>NAICSCode</th>\n",
       "      <th>Zip</th>\n",
       "      <th>Index</th>\n",
       "    </tr>\n",
       "  </thead>\n",
       "  <tbody>\n",
       "    <tr>\n",
       "      <th>count</th>\n",
       "      <td>350000.000000</td>\n",
       "      <td>350000.000000</td>\n",
       "      <td>349998.000000</td>\n",
       "      <td>3.500000e+05</td>\n",
       "    </tr>\n",
       "    <tr>\n",
       "      <th>mean</th>\n",
       "      <td>174999.500000</td>\n",
       "      <td>529273.102820</td>\n",
       "      <td>51496.690767</td>\n",
       "      <td>2.266688e+06</td>\n",
       "    </tr>\n",
       "    <tr>\n",
       "      <th>std</th>\n",
       "      <td>101036.441446</td>\n",
       "      <td>179241.740844</td>\n",
       "      <td>29547.010964</td>\n",
       "      <td>1.319605e+06</td>\n",
       "    </tr>\n",
       "    <tr>\n",
       "      <th>min</th>\n",
       "      <td>0.000000</td>\n",
       "      <td>111110.000000</td>\n",
       "      <td>1001.000000</td>\n",
       "      <td>3.000000e+00</td>\n",
       "    </tr>\n",
       "    <tr>\n",
       "      <th>25%</th>\n",
       "      <td>87499.750000</td>\n",
       "      <td>445110.000000</td>\n",
       "      <td>28572.000000</td>\n",
       "      <td>1.126375e+06</td>\n",
       "    </tr>\n",
       "    <tr>\n",
       "      <th>50%</th>\n",
       "      <td>174999.500000</td>\n",
       "      <td>541211.000000</td>\n",
       "      <td>49417.000000</td>\n",
       "      <td>2.260489e+06</td>\n",
       "    </tr>\n",
       "    <tr>\n",
       "      <th>75%</th>\n",
       "      <td>262499.250000</td>\n",
       "      <td>621610.000000</td>\n",
       "      <td>78154.000000</td>\n",
       "      <td>3.399558e+06</td>\n",
       "    </tr>\n",
       "    <tr>\n",
       "      <th>max</th>\n",
       "      <td>349999.000000</td>\n",
       "      <td>928120.000000</td>\n",
       "      <td>99950.000000</td>\n",
       "      <td>4.561256e+06</td>\n",
       "    </tr>\n",
       "  </tbody>\n",
       "</table>\n",
       "</div>"
      ],
      "text/plain": [
       "          Unnamed: 0      NAICSCode            Zip         Index\n",
       "count  350000.000000  350000.000000  349998.000000  3.500000e+05\n",
       "mean   174999.500000  529273.102820   51496.690767  2.266688e+06\n",
       "std    101036.441446  179241.740844   29547.010964  1.319605e+06\n",
       "min         0.000000  111110.000000    1001.000000  3.000000e+00\n",
       "25%     87499.750000  445110.000000   28572.000000  1.126375e+06\n",
       "50%    174999.500000  541211.000000   49417.000000  2.260489e+06\n",
       "75%    262499.250000  621610.000000   78154.000000  3.399558e+06\n",
       "max    349999.000000  928120.000000   99950.000000  4.561256e+06"
      ]
     },
     "execution_count": 10,
     "metadata": {},
     "output_type": "execute_result"
    }
   ],
   "source": [
    "test_data = pd.read_csv('./2020 PPP Dataset/PPP Test ALL.csv')\n",
    "test_data.describe()"
   ]
  },
  {
   "cell_type": "code",
   "execution_count": 6,
   "metadata": {},
   "outputs": [
    {
     "data": {
      "text/plain": [
       "(350000, 16)"
      ]
     },
     "execution_count": 6,
     "metadata": {},
     "output_type": "execute_result"
    }
   ],
   "source": [
    "test_data.shape"
   ]
  },
  {
   "cell_type": "code",
   "execution_count": 11,
   "metadata": {},
   "outputs": [],
   "source": [
    "test_data['BusinessType'] = test_data['BusinessType'].fillna('Other_BT')\n",
    "test_data['City'] = test_data['City'].fillna('Other_City')\n",
    "test_data['Zip'] = test_data['Zip'].fillna('Other').astype(str)\n",
    "test_data['NAICSCode'] = test_data['NAICSCode'].astype(str)"
   ]
  },
  {
   "cell_type": "code",
   "execution_count": 12,
   "metadata": {},
   "outputs": [],
   "source": [
    "test_df = test_data.copy()"
   ]
  },
  {
   "cell_type": "code",
   "execution_count": 13,
   "metadata": {},
   "outputs": [],
   "source": [
    "test_df = split_loan_range(test_df)"
   ]
  },
  {
   "cell_type": "code",
   "execution_count": 14,
   "metadata": {},
   "outputs": [
    {
     "data": {
      "text/html": [
       "<div>\n",
       "<style scoped>\n",
       "    .dataframe tbody tr th:only-of-type {\n",
       "        vertical-align: middle;\n",
       "    }\n",
       "\n",
       "    .dataframe tbody tr th {\n",
       "        vertical-align: top;\n",
       "    }\n",
       "\n",
       "    .dataframe thead th {\n",
       "        text-align: right;\n",
       "    }\n",
       "</style>\n",
       "<table border=\"1\" class=\"dataframe\">\n",
       "  <thead>\n",
       "    <tr style=\"text-align: right;\">\n",
       "      <th></th>\n",
       "      <th>DateApproved</th>\n",
       "      <th>Gender</th>\n",
       "      <th>RaceEthnicity</th>\n",
       "      <th>Veteran</th>\n",
       "      <th>Industry</th>\n",
       "      <th>Loan_min</th>\n",
       "      <th>Loan_max</th>\n",
       "    </tr>\n",
       "  </thead>\n",
       "  <tbody>\n",
       "    <tr>\n",
       "      <th>0</th>\n",
       "      <td>04/30/2020</td>\n",
       "      <td>Unanswered</td>\n",
       "      <td>Unanswered</td>\n",
       "      <td>Unanswered</td>\n",
       "      <td>Offices of Real Estate Agents and Brokers</td>\n",
       "      <td>0</td>\n",
       "      <td>7964</td>\n",
       "    </tr>\n",
       "    <tr>\n",
       "      <th>1</th>\n",
       "      <td>04/28/2020</td>\n",
       "      <td>Male Owned</td>\n",
       "      <td>Unanswered</td>\n",
       "      <td>Unanswered</td>\n",
       "      <td>Drycleaning and Laundry Services (except Coin-...</td>\n",
       "      <td>7964</td>\n",
       "      <td>16300</td>\n",
       "    </tr>\n",
       "    <tr>\n",
       "      <th>2</th>\n",
       "      <td>04/13/2020</td>\n",
       "      <td>Unanswered</td>\n",
       "      <td>Unanswered</td>\n",
       "      <td>Unanswered</td>\n",
       "      <td>Other Direct Selling Establishments</td>\n",
       "      <td>27300</td>\n",
       "      <td>56313</td>\n",
       "    </tr>\n",
       "    <tr>\n",
       "      <th>3</th>\n",
       "      <td>05/08/2020</td>\n",
       "      <td>Unanswered</td>\n",
       "      <td>Unanswered</td>\n",
       "      <td>Unanswered</td>\n",
       "      <td>Snack and Nonalcoholic Beverage Bars</td>\n",
       "      <td>0</td>\n",
       "      <td>7964</td>\n",
       "    </tr>\n",
       "    <tr>\n",
       "      <th>4</th>\n",
       "      <td>04/27/2020</td>\n",
       "      <td>Unanswered</td>\n",
       "      <td>Unanswered</td>\n",
       "      <td>Unanswered</td>\n",
       "      <td>Beauty Salons</td>\n",
       "      <td>16300</td>\n",
       "      <td>27300</td>\n",
       "    </tr>\n",
       "  </tbody>\n",
       "</table>\n",
       "</div>"
      ],
      "text/plain": [
       "  DateApproved      Gender RaceEthnicity     Veteran  \\\n",
       "0   04/30/2020  Unanswered    Unanswered  Unanswered   \n",
       "1   04/28/2020  Male Owned    Unanswered  Unanswered   \n",
       "2   04/13/2020  Unanswered    Unanswered  Unanswered   \n",
       "3   05/08/2020  Unanswered    Unanswered  Unanswered   \n",
       "4   04/27/2020  Unanswered    Unanswered  Unanswered   \n",
       "\n",
       "                                            Industry  Loan_min  Loan_max  \n",
       "0          Offices of Real Estate Agents and Brokers         0      7964  \n",
       "1  Drycleaning and Laundry Services (except Coin-...      7964     16300  \n",
       "2               Other Direct Selling Establishments      27300     56313  \n",
       "3              Snack and Nonalcoholic Beverage Bars          0      7964  \n",
       "4                                     Beauty Salons      16300     27300  "
      ]
     },
     "execution_count": 14,
     "metadata": {},
     "output_type": "execute_result"
    }
   ],
   "source": [
    "test_df = test_df[preprocessors['selected_features']]\n",
    "test_df.head()"
   ]
  },
  {
   "cell_type": "code",
   "execution_count": 15,
   "metadata": {},
   "outputs": [
    {
     "data": {
      "text/html": [
       "<div>\n",
       "<style scoped>\n",
       "    .dataframe tbody tr th:only-of-type {\n",
       "        vertical-align: middle;\n",
       "    }\n",
       "\n",
       "    .dataframe tbody tr th {\n",
       "        vertical-align: top;\n",
       "    }\n",
       "\n",
       "    .dataframe thead th {\n",
       "        text-align: right;\n",
       "    }\n",
       "</style>\n",
       "<table border=\"1\" class=\"dataframe\">\n",
       "  <thead>\n",
       "    <tr style=\"text-align: right;\">\n",
       "      <th></th>\n",
       "      <th>DateApproved</th>\n",
       "      <th>Gender</th>\n",
       "      <th>RaceEthnicity</th>\n",
       "      <th>Veteran</th>\n",
       "      <th>Industry</th>\n",
       "      <th>Loan_min</th>\n",
       "      <th>Loan_max</th>\n",
       "    </tr>\n",
       "  </thead>\n",
       "  <tbody>\n",
       "    <tr>\n",
       "      <th>count</th>\n",
       "      <td>350000</td>\n",
       "      <td>350000</td>\n",
       "      <td>350000</td>\n",
       "      <td>350000</td>\n",
       "      <td>350000</td>\n",
       "      <td>3.500000e+05</td>\n",
       "      <td>3.500000e+05</td>\n",
       "    </tr>\n",
       "    <tr>\n",
       "      <th>unique</th>\n",
       "      <td>79</td>\n",
       "      <td>3</td>\n",
       "      <td>8</td>\n",
       "      <td>3</td>\n",
       "      <td>1056</td>\n",
       "      <td>NaN</td>\n",
       "      <td>NaN</td>\n",
       "    </tr>\n",
       "    <tr>\n",
       "      <th>top</th>\n",
       "      <td>04/28/2020</td>\n",
       "      <td>Unanswered</td>\n",
       "      <td>Unanswered</td>\n",
       "      <td>Unanswered</td>\n",
       "      <td>Full-Service Restaurants</td>\n",
       "      <td>NaN</td>\n",
       "      <td>NaN</td>\n",
       "    </tr>\n",
       "    <tr>\n",
       "      <th>freq</th>\n",
       "      <td>32934</td>\n",
       "      <td>268290</td>\n",
       "      <td>309722</td>\n",
       "      <td>294824</td>\n",
       "      <td>12840</td>\n",
       "      <td>NaN</td>\n",
       "      <td>NaN</td>\n",
       "    </tr>\n",
       "    <tr>\n",
       "      <th>mean</th>\n",
       "      <td>NaN</td>\n",
       "      <td>NaN</td>\n",
       "      <td>NaN</td>\n",
       "      <td>NaN</td>\n",
       "      <td>NaN</td>\n",
       "      <td>7.210647e+04</td>\n",
       "      <td>1.734960e+05</td>\n",
       "    </tr>\n",
       "    <tr>\n",
       "      <th>std</th>\n",
       "      <td>NaN</td>\n",
       "      <td>NaN</td>\n",
       "      <td>NaN</td>\n",
       "      <td>NaN</td>\n",
       "      <td>NaN</td>\n",
       "      <td>2.447741e+05</td>\n",
       "      <td>5.491557e+05</td>\n",
       "    </tr>\n",
       "    <tr>\n",
       "      <th>min</th>\n",
       "      <td>NaN</td>\n",
       "      <td>NaN</td>\n",
       "      <td>NaN</td>\n",
       "      <td>NaN</td>\n",
       "      <td>NaN</td>\n",
       "      <td>0.000000e+00</td>\n",
       "      <td>7.964000e+03</td>\n",
       "    </tr>\n",
       "    <tr>\n",
       "      <th>25%</th>\n",
       "      <td>NaN</td>\n",
       "      <td>NaN</td>\n",
       "      <td>NaN</td>\n",
       "      <td>NaN</td>\n",
       "      <td>NaN</td>\n",
       "      <td>7.964000e+03</td>\n",
       "      <td>1.630000e+04</td>\n",
       "    </tr>\n",
       "    <tr>\n",
       "      <th>50%</th>\n",
       "      <td>NaN</td>\n",
       "      <td>NaN</td>\n",
       "      <td>NaN</td>\n",
       "      <td>NaN</td>\n",
       "      <td>NaN</td>\n",
       "      <td>1.630000e+04</td>\n",
       "      <td>2.730000e+04</td>\n",
       "    </tr>\n",
       "    <tr>\n",
       "      <th>75%</th>\n",
       "      <td>NaN</td>\n",
       "      <td>NaN</td>\n",
       "      <td>NaN</td>\n",
       "      <td>NaN</td>\n",
       "      <td>NaN</td>\n",
       "      <td>5.631300e+04</td>\n",
       "      <td>1.500000e+05</td>\n",
       "    </tr>\n",
       "    <tr>\n",
       "      <th>max</th>\n",
       "      <td>NaN</td>\n",
       "      <td>NaN</td>\n",
       "      <td>NaN</td>\n",
       "      <td>NaN</td>\n",
       "      <td>NaN</td>\n",
       "      <td>5.000000e+06</td>\n",
       "      <td>1.000000e+07</td>\n",
       "    </tr>\n",
       "  </tbody>\n",
       "</table>\n",
       "</div>"
      ],
      "text/plain": [
       "       DateApproved      Gender RaceEthnicity     Veteran  \\\n",
       "count        350000      350000        350000      350000   \n",
       "unique           79           3             8           3   \n",
       "top      04/28/2020  Unanswered    Unanswered  Unanswered   \n",
       "freq          32934      268290        309722      294824   \n",
       "mean            NaN         NaN           NaN         NaN   \n",
       "std             NaN         NaN           NaN         NaN   \n",
       "min             NaN         NaN           NaN         NaN   \n",
       "25%             NaN         NaN           NaN         NaN   \n",
       "50%             NaN         NaN           NaN         NaN   \n",
       "75%             NaN         NaN           NaN         NaN   \n",
       "max             NaN         NaN           NaN         NaN   \n",
       "\n",
       "                         Industry      Loan_min      Loan_max  \n",
       "count                      350000  3.500000e+05  3.500000e+05  \n",
       "unique                       1056           NaN           NaN  \n",
       "top     Full-Service Restaurants            NaN           NaN  \n",
       "freq                        12840           NaN           NaN  \n",
       "mean                          NaN  7.210647e+04  1.734960e+05  \n",
       "std                           NaN  2.447741e+05  5.491557e+05  \n",
       "min                           NaN  0.000000e+00  7.964000e+03  \n",
       "25%                           NaN  7.964000e+03  1.630000e+04  \n",
       "50%                           NaN  1.630000e+04  2.730000e+04  \n",
       "75%                           NaN  5.631300e+04  1.500000e+05  \n",
       "max                           NaN  5.000000e+06  1.000000e+07  "
      ]
     },
     "execution_count": 15,
     "metadata": {},
     "output_type": "execute_result"
    }
   ],
   "source": [
    "test_df.describe(include='all')"
   ]
  },
  {
   "cell_type": "code",
   "execution_count": 16,
   "metadata": {},
   "outputs": [
    {
     "data": {
      "text/plain": [
       "Unanswered                          309722\n",
       "White                                31776\n",
       "Asian                                 4228\n",
       "Hispanic                              2837\n",
       "Black or African American             1224\n",
       "American Indian or Alaska Native       211\n",
       "Eskimo & Aleut                           1\n",
       "Puerto Rican                             1\n",
       "Name: RaceEthnicity, dtype: int64"
      ]
     },
     "execution_count": 16,
     "metadata": {},
     "output_type": "execute_result"
    }
   ],
   "source": [
    "test_df['RaceEthnicity'].value_counts()"
   ]
  },
  {
   "cell_type": "code",
   "execution_count": 17,
   "metadata": {},
   "outputs": [
    {
     "name": "stdout",
     "output_type": "stream",
     "text": [
      "(109,)\n"
     ]
    }
   ],
   "source": [
    "industry_groups = preprocessors['industry_groups']\n",
    "test_df['Industry'] = test_df['Industry'].apply(lambda s: s.strip())\n",
    "for group in iter(industry_groups):\n",
    "    for industry in industry_groups[group]:\n",
    "        test_df['Industry'] = test_df['Industry'].replace(industry, group)\n",
    "\n",
    "print(test_df['Industry'].unique().shape)"
   ]
  },
  {
   "cell_type": "code",
   "execution_count": 18,
   "metadata": {
    "scrolled": true
   },
   "outputs": [
    {
     "data": {
      "text/plain": [
       "array(['Industry_Group_0', 'Industry_Group_38', 'Industry_Group_48',\n",
       "       'Industry_Group_39', 'Industry_Group_45', 'Industry_Group_12',\n",
       "       'Industry_Group_67', 'Industry_Group_22', 'Industry_Group_25',\n",
       "       'Industry_Group_23', 'Industry_Group_103', 'Industry_Group_1',\n",
       "       'Industry_Group_34', 'Industry_Group_52', 'Industry_Group_44',\n",
       "       'Industry_Group_33', 'Industry_Group_73', 'Industry_Group_46',\n",
       "       'Industry_Group_54', 'Industry_Group_6', 'Industry_Group_66',\n",
       "       'Industry_Group_70', 'Industry_Group_90', 'Industry_Group_96',\n",
       "       'Industry_Group_35', 'Industry_Group_51', 'Industry_Group_2',\n",
       "       'Industry_Group_71', 'Industry_Group_41', 'Industry_Group_7',\n",
       "       'Industry_Group_17', 'Industry_Group_82', 'Industry_Group_3',\n",
       "       'Industry_Group_87', 'Industry_Group_42', 'Industry_Group_57',\n",
       "       'Industry_Group_91', 'Industry_Group_4', 'Industry_Group_18',\n",
       "       'Industry_Group_69', 'Industry_Group_80', 'Industry_Group_84',\n",
       "       'Industry_Group_14', 'Industry_Group_53', 'Industry_Group_5',\n",
       "       'Industry_Group_24', 'Industry_Group_13', 'Industry_Group_15',\n",
       "       'Industry_Group_21', 'Industry_Group_37', 'Industry_Group_61',\n",
       "       'Industry_Group_26', 'Industry_Group_49', 'Industry_Group_9',\n",
       "       'Industry_Group_30', 'Industry_Group_40', 'Industry_Group_65',\n",
       "       'Industry_Group_47', 'Industry_Group_75', 'Industry_Group_56',\n",
       "       'Industry_Group_88', 'Industry_Group_89', 'Industry_Group_81',\n",
       "       'Industry_Group_28', 'Industry_Group_36', 'Industry_Group_10',\n",
       "       'Industry_Group_105', 'Industry_Group_27', 'Industry_Group_8',\n",
       "       'Industry_Group_60', 'Industry_Group_77', 'Industry_Group_20',\n",
       "       'Industry_Group_58', 'Industry_Group_72', 'Industry_Group_31',\n",
       "       'Industry_Group_11', 'Industry_Group_79', 'Industry_Group_104',\n",
       "       'Industry_Group_99', 'Industry_Group_95', 'Industry_Group_63',\n",
       "       'Industry_Group_50', 'Industry_Group_16', 'Industry_Group_98',\n",
       "       'Industry_Group_92', 'Industry_Group_29', 'Industry_Group_19',\n",
       "       'Industry_Group_86', 'Industry_Group_59', 'Industry_Group_68',\n",
       "       'Industry_Group_74', 'Industry_Group_101', 'Industry_Group_102',\n",
       "       'Industry_Group_43', 'Industry_Group_55', 'Industry_Group_97',\n",
       "       'Industry_Group_64', 'Industry_Group_32', 'Industry_Group_108',\n",
       "       'Industry_Group_93', 'Industry_Group_107', 'Industry_Group_83',\n",
       "       'Industry_Group_100', 'Industry_Group_78', 'Industry_Group_85',\n",
       "       'Industry_Group_62', 'Industry_Group_106', 'Industry_Group_76',\n",
       "       'Industry_Group_94'], dtype=object)"
      ]
     },
     "execution_count": 18,
     "metadata": {},
     "output_type": "execute_result"
    }
   ],
   "source": [
    "test_df['Industry'].unique()"
   ]
  },
  {
   "cell_type": "code",
   "execution_count": 19,
   "metadata": {},
   "outputs": [],
   "source": [
    "test_encoded_scaled = preprocessors['loan_scaler'].transform(test_df[['Loan_min', 'Loan_max']])\n",
    "\n",
    "for feature in preprocessors['selected_features'][:-2]:\n",
    "    encoder = preprocessors['feature_encoder_scaler'][feature]['encoder']\n",
    "    scaler = preprocessors['feature_encoder_scaler'][feature]['scaler']\n",
    "    encoded_feature = encoder.transform(test_df[feature].values.reshape(-1,1))\n",
    "    scaled_feature = scaler.transform(encoded_feature.toarray())\n",
    "#     if feature == 'Industry':\n",
    "#         scaled_feature = preprocessors['industry_pca'].transform(scaled_feature)\n",
    "#         continue\n",
    "    \n",
    "    test_encoded_scaled = np.hstack((scaled_feature, test_encoded_scaled))"
   ]
  },
  {
   "cell_type": "code",
   "execution_count": 20,
   "metadata": {},
   "outputs": [
    {
     "data": {
      "text/plain": [
       "(350000, 200)"
      ]
     },
     "execution_count": 20,
     "metadata": {},
     "output_type": "execute_result"
    }
   ],
   "source": [
    "test_encoded_scaled.shape"
   ]
  },
  {
   "cell_type": "code",
   "execution_count": 21,
   "metadata": {},
   "outputs": [],
   "source": [
    "pred = model.predict(test_encoded_scaled)\n",
    "pred = np.floor(pred).astype(int)\n",
    "pred[pred < 0] = 0"
   ]
  },
  {
   "cell_type": "code",
   "execution_count": 22,
   "metadata": {},
   "outputs": [
    {
     "data": {
      "text/plain": [
       "(350000,)"
      ]
     },
     "execution_count": 22,
     "metadata": {},
     "output_type": "execute_result"
    }
   ],
   "source": [
    "pred.shape"
   ]
  },
  {
   "cell_type": "code",
   "execution_count": 23,
   "metadata": {},
   "outputs": [],
   "source": [
    "submission = pd.DataFrame(columns=['Index', 'JobsRetained'])\n",
    "submission['Index'] = test_data['Index'].copy()\n",
    "submission['JobsRetained'] = pred"
   ]
  },
  {
   "cell_type": "code",
   "execution_count": 24,
   "metadata": {},
   "outputs": [
    {
     "data": {
      "text/html": [
       "<div>\n",
       "<style scoped>\n",
       "    .dataframe tbody tr th:only-of-type {\n",
       "        vertical-align: middle;\n",
       "    }\n",
       "\n",
       "    .dataframe tbody tr th {\n",
       "        vertical-align: top;\n",
       "    }\n",
       "\n",
       "    .dataframe thead th {\n",
       "        text-align: right;\n",
       "    }\n",
       "</style>\n",
       "<table border=\"1\" class=\"dataframe\">\n",
       "  <thead>\n",
       "    <tr style=\"text-align: right;\">\n",
       "      <th></th>\n",
       "      <th>Index</th>\n",
       "      <th>JobsRetained</th>\n",
       "    </tr>\n",
       "  </thead>\n",
       "  <tbody>\n",
       "    <tr>\n",
       "      <th>0</th>\n",
       "      <td>1705962</td>\n",
       "      <td>1</td>\n",
       "    </tr>\n",
       "    <tr>\n",
       "      <th>1</th>\n",
       "      <td>770689</td>\n",
       "      <td>1</td>\n",
       "    </tr>\n",
       "    <tr>\n",
       "      <th>2</th>\n",
       "      <td>4016874</td>\n",
       "      <td>5</td>\n",
       "    </tr>\n",
       "    <tr>\n",
       "      <th>3</th>\n",
       "      <td>2306105</td>\n",
       "      <td>1</td>\n",
       "    </tr>\n",
       "    <tr>\n",
       "      <th>4</th>\n",
       "      <td>4517956</td>\n",
       "      <td>2</td>\n",
       "    </tr>\n",
       "    <tr>\n",
       "      <th>...</th>\n",
       "      <td>...</td>\n",
       "      <td>...</td>\n",
       "    </tr>\n",
       "    <tr>\n",
       "      <th>349995</th>\n",
       "      <td>1967756</td>\n",
       "      <td>5</td>\n",
       "    </tr>\n",
       "    <tr>\n",
       "      <th>349996</th>\n",
       "      <td>1831491</td>\n",
       "      <td>1</td>\n",
       "    </tr>\n",
       "    <tr>\n",
       "      <th>349997</th>\n",
       "      <td>1778539</td>\n",
       "      <td>2</td>\n",
       "    </tr>\n",
       "    <tr>\n",
       "      <th>349998</th>\n",
       "      <td>2602834</td>\n",
       "      <td>4</td>\n",
       "    </tr>\n",
       "    <tr>\n",
       "      <th>349999</th>\n",
       "      <td>645873</td>\n",
       "      <td>5</td>\n",
       "    </tr>\n",
       "  </tbody>\n",
       "</table>\n",
       "<p>350000 rows × 2 columns</p>\n",
       "</div>"
      ],
      "text/plain": [
       "          Index  JobsRetained\n",
       "0       1705962             1\n",
       "1        770689             1\n",
       "2       4016874             5\n",
       "3       2306105             1\n",
       "4       4517956             2\n",
       "...         ...           ...\n",
       "349995  1967756             5\n",
       "349996  1831491             1\n",
       "349997  1778539             2\n",
       "349998  2602834             4\n",
       "349999   645873             5\n",
       "\n",
       "[350000 rows x 2 columns]"
      ]
     },
     "execution_count": 24,
     "metadata": {},
     "output_type": "execute_result"
    }
   ],
   "source": [
    "submission"
   ]
  },
  {
   "cell_type": "code",
   "execution_count": 25,
   "metadata": {},
   "outputs": [],
   "source": [
    "submission.set_index('Index',inplace=True)"
   ]
  },
  {
   "cell_type": "code",
   "execution_count": 26,
   "metadata": {},
   "outputs": [],
   "source": [
    "submission.to_csv('./Submissions/Animesh_Submission_13.csv')"
   ]
  },
  {
   "cell_type": "code",
   "execution_count": null,
   "metadata": {},
   "outputs": [],
   "source": []
  }
 ],
 "metadata": {
  "kernelspec": {
   "display_name": "Python 3",
   "language": "python",
   "name": "python3"
  },
  "language_info": {
   "codemirror_mode": {
    "name": "ipython",
    "version": 3
   },
   "file_extension": ".py",
   "mimetype": "text/x-python",
   "name": "python",
   "nbconvert_exporter": "python",
   "pygments_lexer": "ipython3",
   "version": "3.7.9"
  }
 },
 "nbformat": 4,
 "nbformat_minor": 4
}
