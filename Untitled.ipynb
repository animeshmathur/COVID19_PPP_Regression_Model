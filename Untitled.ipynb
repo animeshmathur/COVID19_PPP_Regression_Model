{
 "cells": [
  {
   "cell_type": "code",
   "execution_count": 15,
   "metadata": {},
   "outputs": [
    {
     "name": "stderr",
     "output_type": "stream",
     "text": [
      "C:\\Users\\animathur\\Documents\\Storage\\ML_Guild\\ML_Guild__PPP_Competition\\PPP_Data_Preprocessing.py:10: SettingWithCopyWarning: \n",
      "A value is trying to be set on a copy of a slice from a DataFrame\n",
      "\n",
      "See the caveats in the documentation: https://pandas.pydata.org/pandas-docs/stable/user_guide/indexing.html#returning-a-view-versus-a-copy\n",
      "  df['City'][df['Zip'] == zip_code] = 'Other_City'\n"
     ]
    }
   ],
   "source": [
    "import numpy as np\n",
    "import pandas as pd\n",
    "\n",
    "from PPP_Data_Preprocessing import impute_missing_vals\n",
    "\n",
    "import pickle\n",
    "\n",
    "input_features = ['BusinessType', 'CD', 'DateApproved', 'Gender',\n",
    "           'Lender', 'LoanRange', 'NAICSCode', 'NonProfit', 'RaceEthnicity',\n",
    "           'State', 'City', 'Zip', 'Veteran']\n",
    "\n",
    "model_pkl = open('./catboost_regressor.pkl', 'rb')\n",
    "model = pickle.load(model_pkl)\n",
    "model_pkl.close()\n",
    "\n",
    "test_data = pd.read_csv('./2020 PPP Dataset/PPP Test ALL.csv')\n",
    "\n",
    "test_data = impute_missing_vals(test_data)\n",
    "\n",
    "test_pred = model.predict(test_data[input_features])\n",
    "test_pred = np.exp(test_pred) - 1\n",
    "test_pred[test_pred < 0] = 0\n",
    "\n",
    "submission = pd.DataFrame(columns=['Index', 'JobsRetained'])\n",
    "submission['Index'] = test_data['Index'].copy()\n",
    "submission['JobsRetained'] = np.round(test_pred, 0).astype(int)\n",
    "\n",
    "submission.set_index('Index',inplace=True)\n",
    "submission.to_csv('./Submission.csv')"
   ]
  },
  {
   "cell_type": "code",
   "execution_count": null,
   "metadata": {},
   "outputs": [],
   "source": []
  }
 ],
 "metadata": {
  "kernelspec": {
   "display_name": "Python 3",
   "language": "python",
   "name": "python3"
  },
  "language_info": {
   "codemirror_mode": {
    "name": "ipython",
    "version": 3
   },
   "file_extension": ".py",
   "mimetype": "text/x-python",
   "name": "python",
   "nbconvert_exporter": "python",
   "pygments_lexer": "ipython3",
   "version": "3.7.9"
  }
 },
 "nbformat": 4,
 "nbformat_minor": 4
}
