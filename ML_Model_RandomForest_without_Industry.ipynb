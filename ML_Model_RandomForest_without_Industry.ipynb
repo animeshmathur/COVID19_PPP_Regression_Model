{
 "cells": [
  {
   "cell_type": "code",
   "execution_count": 1,
   "metadata": {},
   "outputs": [
    {
     "name": "stderr",
     "output_type": "stream",
     "text": [
      "C:\\Users\\animathur\\AppData\\Local\\Continuum\\anaconda3\\envs\\py3-TensorFlow2\\lib\\site-packages\\sklearn\\utils\\deprecation.py:143: FutureWarning: The sklearn.metrics.scorer module is  deprecated in version 0.22 and will be removed in version 0.24. The corresponding classes / functions should instead be imported from sklearn.metrics. Anything that cannot be imported from sklearn.metrics is now part of the private API.\n",
      "  warnings.warn(message, FutureWarning)\n"
     ]
    }
   ],
   "source": [
    "import numpy as np\n",
    "import pandas as pd\n",
    "from sklearn.ensemble import RandomForestRegressor\n",
    "from sklearn.model_selection import train_test_split\n",
    "\n",
    "from sklearn.metrics import mean_squared_log_error\n",
    "from sklearn.metrics.scorer import make_scorer\n",
    "from sklearn.model_selection import cross_val_score, GridSearchCV\n",
    "import pickle"
   ]
  },
  {
   "cell_type": "code",
   "execution_count": 3,
   "metadata": {},
   "outputs": [],
   "source": [
    "data_npz = np.load('./preprocessed/preprocessed_data_grouped_industry.npz')\n",
    "X = data_npz['inputs'].astype(np.float)\n",
    "y = data_npz['targets'].astype(np.float)"
   ]
  },
  {
   "cell_type": "code",
   "execution_count": 17,
   "metadata": {},
   "outputs": [],
   "source": [
    "X_train, X_test, y_train, y_test = train_test_split(X, y, test_size=0.3, random_state=42)"
   ]
  },
  {
   "cell_type": "code",
   "execution_count": 4,
   "metadata": {},
   "outputs": [],
   "source": [
    "def custom_rmsle_scorer(y_true,y_predicted):\n",
    "    y_predicted[y_predicted < 0] = 0\n",
    "    return np.sqrt(mean_squared_log_error(y_true, y_predicted))"
   ]
  },
  {
   "cell_type": "code",
   "execution_count": null,
   "metadata": {},
   "outputs": [],
   "source": [
    "model = RandomForestRegressor()\n",
    "params = {\n",
    "    'n_estimators': [10],\n",
    "    'min_samples_split': range(0, 100, 10),\n",
    "    'min_samples_leaf': range(0, 100, 10)\n",
    "}\n",
    "grid_search_cv = GridSearchCV(model, params, n_jobs=-1, verbose=3, scoring=make_scorer(custom_rmsle_scorer, greater_is_better=False), cv)"
   ]
  },
  {
   "cell_type": "code",
   "execution_count": null,
   "metadata": {},
   "outputs": [],
   "source": [
    "grid_search_cv.fit(X, y)"
   ]
  },
  {
   "cell_type": "code",
   "execution_count": 5,
   "metadata": {},
   "outputs": [],
   "source": [
    "def train_test_regressor(inputs, targets, n_estimators=100):\n",
    "    rf = RandomForestRegressor(n_estimators=n_estimators, random_state=42, n_jobs=7, verbose=2)\n",
    "    rf.fit(inputs, targets)\n",
    "    pred = rf.predict(inputs)\n",
    "    pred[pred < 0] = 0\n",
    "    print('Training Loss:')\n",
    "    print(np.sqrt(mean_squared_log_error(targets, pred)))\n",
    "    return rf"
   ]
  },
  {
   "cell_type": "code",
   "execution_count": null,
   "metadata": {
    "scrolled": true
   },
   "outputs": [],
   "source": [
    "reg = train_test_regressor(X_train, y_train, 300)\n",
    "\n",
    "y_pred = reg.predict(X_test)\n",
    "y_pred[y_pred < 0] = 0\n",
    "print(1 - mean_squared_log_error(y_test, y_pred))"
   ]
  },
  {
   "cell_type": "markdown",
   "metadata": {},
   "source": [
    "### Training on entire data"
   ]
  },
  {
   "cell_type": "code",
   "execution_count": 18,
   "metadata": {
    "scrolled": true
   },
   "outputs": [
    {
     "name": "stderr",
     "output_type": "stream",
     "text": [
      "[Parallel(n_jobs=7)]: Using backend ThreadingBackend with 7 concurrent workers.\n"
     ]
    },
    {
     "name": "stdout",
     "output_type": "stream",
     "text": [
      "building tree 1 of 10\n",
      "building tree 2 of 10\n",
      "building tree 3 of 10\n",
      "building tree 4 of 10building tree 5 of 10\n",
      "building tree 6 of 10\n",
      "\n",
      "building tree 7 of 10\n",
      "building tree 8 of 10\n",
      "building tree 9 of 10\n",
      "building tree 10 of 10\n"
     ]
    },
    {
     "name": "stderr",
     "output_type": "stream",
     "text": [
      "[Parallel(n_jobs=7)]: Done   3 out of  10 | elapsed:   25.6s remaining:   59.9s\n",
      "[Parallel(n_jobs=7)]: Done  10 out of  10 | elapsed:   40.7s finished\n",
      "[Parallel(n_jobs=7)]: Using backend ThreadingBackend with 7 concurrent workers.\n",
      "[Parallel(n_jobs=7)]: Done   3 out of  10 | elapsed:    0.2s remaining:    0.5s\n",
      "[Parallel(n_jobs=7)]: Done  10 out of  10 | elapsed:    0.4s finished\n",
      "[Parallel(n_jobs=7)]: Using backend ThreadingBackend with 7 concurrent workers.\n"
     ]
    },
    {
     "name": "stdout",
     "output_type": "stream",
     "text": [
      "Training Loss:\n",
      "0.49825078772421466\n"
     ]
    },
    {
     "name": "stderr",
     "output_type": "stream",
     "text": [
      "[Parallel(n_jobs=7)]: Done   3 out of  10 | elapsed:    0.0s remaining:    0.2s\n",
      "[Parallel(n_jobs=7)]: Done  10 out of  10 | elapsed:    0.1s finished\n"
     ]
    },
    {
     "name": "stdout",
     "output_type": "stream",
     "text": [
      "Testing Loss:\n",
      "0.5159658823455393\n"
     ]
    }
   ],
   "source": [
    "reg_10 = RandomForestRegressor(n_estimators=10, random_state=42, n_jobs=7, verbose=2)\n",
    "reg_10.fit(X_train, y_train)\n",
    "\n",
    "pred_10 = reg_10.predict(X_train)\n",
    "pred_10 = np.floor(pred_10).astype(int)\n",
    "pred_10[pred_10 < 0] = 0\n",
    "print('Training Loss:')\n",
    "print(np.sqrt(mean_squared_log_error(y_train, pred_10)))\n",
    "\n",
    "pred_10 = reg_10.predict(X_test)\n",
    "pred_10 = np.floor(pred_10).astype(int)\n",
    "pred_10[pred_10 < 0] = 0\n",
    "print('Testing Loss:')\n",
    "print(np.sqrt(mean_squared_log_error(y_test, pred_10)))\n",
    "\n",
    "# Training Loss:\n",
    "# 0.5054025266083303"
   ]
  },
  {
   "cell_type": "code",
   "execution_count": 19,
   "metadata": {
    "scrolled": true
   },
   "outputs": [
    {
     "name": "stderr",
     "output_type": "stream",
     "text": [
      "[Parallel(n_jobs=7)]: Using backend ThreadingBackend with 7 concurrent workers.\n"
     ]
    },
    {
     "name": "stdout",
     "output_type": "stream",
     "text": [
      "building tree 1 of 100building tree 2 of 100\n",
      "\n",
      "building tree 3 of 100\n",
      "building tree 4 of 100\n",
      "building tree 5 of 100\n",
      "building tree 6 of 100\n",
      "building tree 7 of 100\n",
      "building tree 8 of 100\n",
      "building tree 9 of 100\n",
      "building tree 10 of 100\n",
      "building tree 11 of 100building tree 12 of 100\n",
      "\n",
      "building tree 13 of 100\n",
      "building tree 14 of 100\n",
      "building tree 15 of 100\n",
      "building tree 16 of 100\n",
      "building tree 17 of 100\n",
      "building tree 18 of 100\n",
      "building tree 19 of 100\n",
      "building tree 20 of 100\n",
      "building tree 21 of 100\n",
      "building tree 22 of 100\n",
      "building tree 23 of 100\n",
      "building tree 24 of 100\n",
      "building tree 25 of 100\n",
      "building tree 26 of 100\n",
      "building tree 27 of 100\n",
      "building tree 28 of 100\n",
      "building tree 29 of 100\n",
      "building tree 30 of 100\n",
      "building tree 31 of 100\n",
      "building tree 32 of 100\n",
      "building tree 33 of 100\n"
     ]
    },
    {
     "name": "stderr",
     "output_type": "stream",
     "text": [
      "[Parallel(n_jobs=7)]: Done  27 tasks      | elapsed:  1.7min\n"
     ]
    },
    {
     "name": "stdout",
     "output_type": "stream",
     "text": [
      "building tree 34 of 100\n",
      "building tree 35 of 100\n",
      "building tree 36 of 100\n",
      "building tree 37 of 100\n",
      "building tree 38 of 100\n",
      "building tree 39 of 100\n",
      "building tree 40 of 100\n",
      "building tree 41 of 100\n",
      "building tree 42 of 100\n",
      "building tree 43 of 100\n",
      "building tree 44 of 100\n",
      "building tree 45 of 100\n",
      "building tree 46 of 100\n",
      "building tree 47 of 100\n",
      "building tree 48 of 100\n",
      "building tree 49 of 100\n",
      "building tree 50 of 100\n",
      "building tree 51 of 100\n",
      "building tree 52 of 100\n",
      "building tree 53 of 100\n",
      "building tree 54 of 100\n",
      "building tree 55 of 100\n",
      "building tree 56 of 100\n",
      "building tree 57 of 100\n",
      "building tree 58 of 100\n",
      "building tree 59 of 100\n",
      "building tree 60 of 100\n",
      "building tree 61 of 100\n",
      "building tree 62 of 100\n",
      "building tree 63 of 100\n",
      "building tree 64 of 100\n",
      "building tree 65 of 100\n",
      "building tree 66 of 100\n",
      "building tree 67 of 100\n",
      "building tree 68 of 100\n",
      "building tree 69 of 100\n",
      "building tree 70 of 100\n",
      "building tree 71 of 100building tree 72 of 100\n",
      "\n",
      "building tree 73 of 100\n",
      "building tree 74 of 100\n",
      "building tree 75 of 100\n",
      "building tree 76 of 100\n",
      "building tree 77 of 100\n",
      "building tree 78 of 100\n",
      "building tree 79 of 100\n",
      "building tree 80 of 100\n",
      "building tree 81 of 100\n",
      "building tree 82 of 100\n",
      "building tree 83 of 100\n",
      "building tree 84 of 100\n",
      "building tree 85 of 100\n",
      "building tree 86 of 100\n",
      "building tree 87 of 100\n",
      "building tree 88 of 100\n",
      "building tree 89 of 100\n",
      "building tree 90 of 100\n",
      "building tree 91 of 100\n",
      "building tree 92 of 100\n",
      "building tree 93 of 100\n",
      "building tree 94 of 100\n",
      "building tree 95 of 100\n",
      "building tree 96 of 100\n",
      "building tree 97 of 100\n",
      "building tree 98 of 100\n",
      "building tree 99 of 100\n",
      "building tree 100 of 100\n"
     ]
    },
    {
     "name": "stderr",
     "output_type": "stream",
     "text": [
      "[Parallel(n_jobs=7)]: Done 100 out of 100 | elapsed:  6.3min finished\n",
      "[Parallel(n_jobs=7)]: Using backend ThreadingBackend with 7 concurrent workers.\n",
      "[Parallel(n_jobs=7)]: Done  27 tasks      | elapsed:    1.0s\n",
      "[Parallel(n_jobs=7)]: Done 100 out of 100 | elapsed:    4.1s finished\n"
     ]
    },
    {
     "name": "stdout",
     "output_type": "stream",
     "text": [
      "Training Loss:\n",
      "0.4973125919472714\n"
     ]
    },
    {
     "name": "stderr",
     "output_type": "stream",
     "text": [
      "[Parallel(n_jobs=7)]: Using backend ThreadingBackend with 7 concurrent workers.\n",
      "[Parallel(n_jobs=7)]: Done  27 tasks      | elapsed:    0.6s\n"
     ]
    },
    {
     "name": "stdout",
     "output_type": "stream",
     "text": [
      "Testing Loss:\n",
      "0.5150571429368025\n"
     ]
    },
    {
     "name": "stderr",
     "output_type": "stream",
     "text": [
      "[Parallel(n_jobs=7)]: Done 100 out of 100 | elapsed:    2.0s finished\n"
     ]
    }
   ],
   "source": [
    "reg_100 = RandomForestRegressor(n_estimators=100, random_state=42, n_jobs=7, verbose=2)\n",
    "reg_100.fit(X_train, y_train)\n",
    "\n",
    "pred_100 = reg_100.predict(X_train)\n",
    "pred_100 = np.floor(pred_100).astype(int)\n",
    "pred_100[pred_100 < 0] = 0\n",
    "print('Training Loss:')\n",
    "print(np.sqrt(mean_squared_log_error(y_train, pred_100)))\n",
    "\n",
    "pred_100 = reg_100.predict(X_test)\n",
    "pred_100 = np.floor(pred_100).astype(int)\n",
    "pred_100[pred_100 < 0] = 0\n",
    "print('Testing Loss:')\n",
    "print(np.sqrt(mean_squared_log_error(y_test, pred_100)))\n",
    "\n",
    "# Training Loss:\n",
    "# 0.5040912806151099\n",
    "\n",
    "# Testing Loss:\n",
    "# 0.5131974266909152"
   ]
  },
  {
   "cell_type": "code",
   "execution_count": null,
   "metadata": {
    "scrolled": true
   },
   "outputs": [],
   "source": [
    "reg_200 = RandomForestRegressor(n_estimators=200, random_state=42, n_jobs=7, verbose=2)\n",
    "reg_200.fit(X, y)\n",
    "pred_200 = reg_200.predict(X)\n",
    "pred_200[pred_200 < 0] = 0\n",
    "print('Training Loss:')\n",
    "print(np.sqrt(mean_squared_log_error(y, pred_200)))\n",
    "\n",
    "# Training Loss:\n",
    "# 0.5048225921182407"
   ]
  },
  {
   "cell_type": "code",
   "execution_count": null,
   "metadata": {
    "scrolled": true
   },
   "outputs": [],
   "source": [
    "reg_300 = RandomForestRegressor(n_estimators=300, random_state=42, n_jobs=7, verbose=2)\n",
    "reg_300.fit(X, y)\n",
    "pred_300 = reg_300.predict(X)\n",
    "pred_300[pred_300 < 0] = 0\n",
    "print('Training Loss:')\n",
    "print(np.sqrt(mean_squared_log_error(y, pred_300)))"
   ]
  },
  {
   "cell_type": "markdown",
   "metadata": {},
   "source": [
    "### Exporting Model"
   ]
  },
  {
   "cell_type": "code",
   "execution_count": 20,
   "metadata": {},
   "outputs": [],
   "source": [
    "pickle.dump(reg_100, open('./models/rf_regressor_without_industry_100.pkl', 'wb'))"
   ]
  },
  {
   "cell_type": "code",
   "execution_count": null,
   "metadata": {},
   "outputs": [],
   "source": []
  }
 ],
 "metadata": {
  "kernelspec": {
   "display_name": "Python 3",
   "language": "python",
   "name": "python3"
  },
  "language_info": {
   "codemirror_mode": {
    "name": "ipython",
    "version": 3
   },
   "file_extension": ".py",
   "mimetype": "text/x-python",
   "name": "python",
   "nbconvert_exporter": "python",
   "pygments_lexer": "ipython3",
   "version": "3.7.9"
  }
 },
 "nbformat": 4,
 "nbformat_minor": 4
}
