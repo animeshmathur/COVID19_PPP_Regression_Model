{
 "cells": [
  {
   "cell_type": "code",
   "execution_count": 1,
   "metadata": {},
   "outputs": [
    {
     "name": "stderr",
     "output_type": "stream",
     "text": [
      "C:\\Users\\animathur\\AppData\\Local\\Continuum\\anaconda3\\envs\\py3-TensorFlow2\\lib\\site-packages\\sklearn\\utils\\deprecation.py:143: FutureWarning: The sklearn.metrics.scorer module is  deprecated in version 0.22 and will be removed in version 0.24. The corresponding classes / functions should instead be imported from sklearn.metrics. Anything that cannot be imported from sklearn.metrics is now part of the private API.\n",
      "  warnings.warn(message, FutureWarning)\n"
     ]
    }
   ],
   "source": [
    "import numpy as np\n",
    "from sklearn.ensemble import RandomForestRegressor\n",
    "from sklearn.model_selection import train_test_split\n",
    "\n",
    "from sklearn.metrics import mean_squared_log_error\n",
    "from sklearn.metrics.scorer import make_scorer\n",
    "from sklearn.model_selection import cross_val_score, GridSearchCV\n",
    "import pickle"
   ]
  },
  {
   "cell_type": "code",
   "execution_count": 2,
   "metadata": {},
   "outputs": [],
   "source": [
    "data_npz = np.load('./preprocessed/preprocessed_data_with_industry.npz')\n",
    "X = data_npz['inputs'].astype(np.float)\n",
    "y = data_npz['targets'].astype(np.float)"
   ]
  },
  {
   "cell_type": "code",
   "execution_count": 3,
   "metadata": {},
   "outputs": [],
   "source": [
    "X_train, X_test, y_train, y_test = train_test_split(X, y, test_size=0.2, random_state=42)"
   ]
  },
  {
   "cell_type": "code",
   "execution_count": 4,
   "metadata": {},
   "outputs": [],
   "source": [
    "def custom_rmsle_scorer(y_true,y_predicted):\n",
    "    y_predicted[y_predicted < 0] = 0\n",
    "    return np.sqrt(mean_squared_log_error(y_true, y_predicted))"
   ]
  },
  {
   "cell_type": "code",
   "execution_count": null,
   "metadata": {},
   "outputs": [],
   "source": [
    "model = RandomForestRegressor()\n",
    "params = {\n",
    "    'n_estimators': [100,300,500]\n",
    "}\n",
    "grid_search_cv = GridSearchCV(model, params, n_jobs=7, verbose=3, scoring=make_scorer(custom_rmsle_scorer, greater_is_better=False))"
   ]
  },
  {
   "cell_type": "code",
   "execution_count": null,
   "metadata": {},
   "outputs": [],
   "source": [
    "grid_search_cv.fit(X, y)"
   ]
  },
  {
   "cell_type": "code",
   "execution_count": 5,
   "metadata": {
    "scrolled": true
   },
   "outputs": [
    {
     "name": "stderr",
     "output_type": "stream",
     "text": [
      "[Parallel(n_jobs=6)]: Using backend ThreadingBackend with 6 concurrent workers.\n"
     ]
    },
    {
     "name": "stdout",
     "output_type": "stream",
     "text": [
      "building tree 1 of 10building tree 2 of 10building tree 3 of 10building tree 4 of 10\n",
      "\n",
      "building tree 5 of 10building tree 6 of 10\n",
      "\n",
      "\n",
      "\n",
      "building tree 7 of 10\n",
      "building tree 8 of 10\n",
      "building tree 9 of 10\n",
      "building tree 10 of 10\n"
     ]
    },
    {
     "name": "stderr",
     "output_type": "stream",
     "text": [
      "[Parallel(n_jobs=6)]: Done   5 out of  10 | elapsed: 20.8min remaining: 20.8min\n",
      "[Parallel(n_jobs=6)]: Done  10 out of  10 | elapsed: 32.2min finished\n",
      "[Parallel(n_jobs=6)]: Using backend ThreadingBackend with 6 concurrent workers.\n",
      "[Parallel(n_jobs=6)]: Done   5 out of  10 | elapsed:    1.9s remaining:    1.9s\n",
      "[Parallel(n_jobs=6)]: Done  10 out of  10 | elapsed:    3.4s finished\n"
     ]
    },
    {
     "name": "stdout",
     "output_type": "stream",
     "text": [
      "Training Loss:\n",
      "0.23560031078248306\n"
     ]
    },
    {
     "name": "stderr",
     "output_type": "stream",
     "text": [
      "[Parallel(n_jobs=6)]: Using backend ThreadingBackend with 6 concurrent workers.\n",
      "[Parallel(n_jobs=6)]: Done   5 out of  10 | elapsed:    0.5s remaining:    0.5s\n",
      "[Parallel(n_jobs=6)]: Done  10 out of  10 | elapsed:    0.9s finished\n"
     ]
    },
    {
     "name": "stdout",
     "output_type": "stream",
     "text": [
      "Testing Loss:\n",
      "0.5186870890019066\n"
     ]
    }
   ],
   "source": [
    "reg_10 = RandomForestRegressor(n_estimators=10, random_state=42, n_jobs=6, verbose=2)\n",
    "reg_10.fit(X_train, y_train)\n",
    "\n",
    "pred_10 = reg_10.predict(X_train)\n",
    "pred_10[pred_10 < 0] = 0\n",
    "print('Training Loss:')\n",
    "print(np.sqrt(mean_squared_log_error(y_train, pred_10)))\n",
    "\n",
    "pred_10 = reg_10.predict(X_test)\n",
    "pred_10[pred_10 < 0] = 0\n",
    "print('Testing Loss:')\n",
    "print(np.sqrt(mean_squared_log_error(y_test, pred_10)))\n",
    "\n",
    "# Training Loss:\n",
    "# 0.2374216809169934"
   ]
  },
  {
   "cell_type": "code",
   "execution_count": null,
   "metadata": {},
   "outputs": [
    {
     "name": "stderr",
     "output_type": "stream",
     "text": [
      "[Parallel(n_jobs=-1)]: Using backend ThreadingBackend with 8 concurrent workers.\n"
     ]
    },
    {
     "name": "stdout",
     "output_type": "stream",
     "text": [
      "building tree 1 of 10building tree 2 of 10building tree 3 of 10building tree 4 of 10building tree 5 of 10\n",
      "\n",
      "building tree 6 of 10building tree 7 of 10\n",
      "\n",
      "building tree 8 of 10\n",
      "\n",
      "\n",
      "\n"
     ]
    }
   ],
   "source": [
    "reg_100 = RandomForestRegressor(n_estimators=10, random_state=42, n_jobs=-1, verbose=2)\n",
    "reg_100.fit(X_train, y_train)\n",
    "\n",
    "pred_100 = reg_100.predict(X_train)\n",
    "pred_100[pred_100 < 0] = 0\n",
    "print('Training Loss:')\n",
    "print(np.sqrt(mean_squared_log_error(y_train, pred_100)))\n",
    "\n",
    "pred_100 = reg_100.predict(X_test)\n",
    "pred_100[pred_100 < 0] = 0\n",
    "print('Testing Loss:')\n",
    "print(np.sqrt(mean_squared_log_error(y_test, pred_100)))"
   ]
  },
  {
   "cell_type": "code",
   "execution_count": null,
   "metadata": {},
   "outputs": [],
   "source": [
    "cv_reg_10 = RandomForestRegressor(n_estimators=10, random_state=42, n_jobs=6, verbose=2)\n",
    "cv_scores_10 = cross_val_score(cv_reg_10, X, y, scoring=make_scorer(custom_rmsle_scorer, greater_is_better=False))"
   ]
  },
  {
   "cell_type": "code",
   "execution_count": null,
   "metadata": {},
   "outputs": [],
   "source": [
    "cv_scores_10\n",
    "\n",
    "# array([-0.51784263, -0.5187038 , -0.51876523, -0.52485249, -0.52453937])"
   ]
  },
  {
   "cell_type": "code",
   "execution_count": null,
   "metadata": {},
   "outputs": [],
   "source": []
  },
  {
   "cell_type": "code",
   "execution_count": null,
   "metadata": {},
   "outputs": [],
   "source": [
    "reg_100 = RandomForestRegressor(n_estimators=100, random_state=42, n_jobs=7, verbose=2)\n",
    "reg_100.fit(X, y)\n",
    "pred_100 = reg_100.predict(X)\n",
    "pred_100[pred_100 < 0] = 0\n",
    "print('Training Loss:')\n",
    "print(np.sqrt(mean_squared_log_error(y, pred_100)))"
   ]
  },
  {
   "cell_type": "code",
   "execution_count": null,
   "metadata": {},
   "outputs": [],
   "source": []
  },
  {
   "cell_type": "code",
   "execution_count": null,
   "metadata": {},
   "outputs": [],
   "source": []
  },
  {
   "cell_type": "code",
   "execution_count": null,
   "metadata": {},
   "outputs": [],
   "source": [
    "pickle.dump(reg_10, open('./models/rf_regressor_with_industry.pkl', 'wb'))"
   ]
  },
  {
   "cell_type": "code",
   "execution_count": null,
   "metadata": {},
   "outputs": [],
   "source": []
  },
  {
   "cell_type": "code",
   "execution_count": null,
   "metadata": {},
   "outputs": [],
   "source": []
  }
 ],
 "metadata": {
  "kernelspec": {
   "display_name": "Python 3",
   "language": "python",
   "name": "python3"
  },
  "language_info": {
   "codemirror_mode": {
    "name": "ipython",
    "version": 3
   },
   "file_extension": ".py",
   "mimetype": "text/x-python",
   "name": "python",
   "nbconvert_exporter": "python",
   "pygments_lexer": "ipython3",
   "version": "3.7.9"
  }
 },
 "nbformat": 4,
 "nbformat_minor": 4
}
