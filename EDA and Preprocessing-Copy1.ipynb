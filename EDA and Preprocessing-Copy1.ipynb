{
 "cells": [
  {
   "cell_type": "code",
   "execution_count": 1,
   "metadata": {},
   "outputs": [],
   "source": [
    "import numpy as np\n",
    "import pandas as pd\n",
    "import matplotlib.pyplot as plt\n",
    "import seaborn as sns\n",
    "\n",
    "sns.set()\n",
    "\n",
    "from sklearn.preprocessing import OneHotEncoder\n",
    "from sklearn.compose import ColumnTransformer\n",
    "# from statsmodels.stats.outliers_influence import variance_inflation_factor\n",
    "\n",
    "from sklearn.model_selection import train_test_split\n",
    "from sklearn.decomposition import PCA, IncrementalPCA"
   ]
  },
  {
   "cell_type": "code",
   "execution_count": 2,
   "metadata": {},
   "outputs": [],
   "source": [
    "raw_data = pd.read_csv('./2020 PPP Dataset/PPP Train ALL.csv')"
   ]
  },
  {
   "cell_type": "code",
   "execution_count": 3,
   "metadata": {},
   "outputs": [
    {
     "data": {
      "text/html": [
       "<div>\n",
       "<style scoped>\n",
       "    .dataframe tbody tr th:only-of-type {\n",
       "        vertical-align: middle;\n",
       "    }\n",
       "\n",
       "    .dataframe tbody tr th {\n",
       "        vertical-align: top;\n",
       "    }\n",
       "\n",
       "    .dataframe thead th {\n",
       "        text-align: right;\n",
       "    }\n",
       "</style>\n",
       "<table border=\"1\" class=\"dataframe\">\n",
       "  <thead>\n",
       "    <tr style=\"text-align: right;\">\n",
       "      <th></th>\n",
       "      <th>Unnamed: 0</th>\n",
       "      <th>BusinessType</th>\n",
       "      <th>CD</th>\n",
       "      <th>City</th>\n",
       "      <th>DateApproved</th>\n",
       "      <th>Gender</th>\n",
       "      <th>JobsRetained</th>\n",
       "      <th>Lender</th>\n",
       "      <th>LoanRange</th>\n",
       "      <th>NAICSCode</th>\n",
       "      <th>NonProfit</th>\n",
       "      <th>RaceEthnicity</th>\n",
       "      <th>State</th>\n",
       "      <th>Veteran</th>\n",
       "      <th>Zip</th>\n",
       "      <th>Industry</th>\n",
       "      <th>Index</th>\n",
       "    </tr>\n",
       "  </thead>\n",
       "  <tbody>\n",
       "    <tr>\n",
       "      <th>0</th>\n",
       "      <td>0</td>\n",
       "      <td>Independent Contractors</td>\n",
       "      <td>CA - 49</td>\n",
       "      <td>LA JOLLA</td>\n",
       "      <td>04/30/2020</td>\n",
       "      <td>Unanswered</td>\n",
       "      <td>1.0</td>\n",
       "      <td>U.S. Bank, National Association</td>\n",
       "      <td>$16300-27300</td>\n",
       "      <td>531210.0</td>\n",
       "      <td>N</td>\n",
       "      <td>Unanswered</td>\n",
       "      <td>CA</td>\n",
       "      <td>Unanswered</td>\n",
       "      <td>92037.0</td>\n",
       "      <td>Offices of Real Estate Agents and Brokers</td>\n",
       "      <td>1026947</td>\n",
       "    </tr>\n",
       "    <tr>\n",
       "      <th>1</th>\n",
       "      <td>1</td>\n",
       "      <td>Limited  Liability Company(LLC)</td>\n",
       "      <td>CA - 39</td>\n",
       "      <td>BREA</td>\n",
       "      <td>04/30/2020</td>\n",
       "      <td>Male Owned</td>\n",
       "      <td>4.0</td>\n",
       "      <td>Bank of America, National Association</td>\n",
       "      <td>$7964-16300</td>\n",
       "      <td>423490.0</td>\n",
       "      <td>N</td>\n",
       "      <td>Unanswered</td>\n",
       "      <td>CA</td>\n",
       "      <td>Non-Veteran</td>\n",
       "      <td>92821.0</td>\n",
       "      <td>Other Professional Equipment and Supplies Merc...</td>\n",
       "      <td>1143280</td>\n",
       "    </tr>\n",
       "    <tr>\n",
       "      <th>2</th>\n",
       "      <td>2</td>\n",
       "      <td>Limited  Liability Company(LLC)</td>\n",
       "      <td>MI - 08</td>\n",
       "      <td>ROCHESTER HILLS</td>\n",
       "      <td>04/06/2020</td>\n",
       "      <td>Unanswered</td>\n",
       "      <td>208.0</td>\n",
       "      <td>Oxford Bank</td>\n",
       "      <td>$2-5 million</td>\n",
       "      <td>541612.0</td>\n",
       "      <td>N</td>\n",
       "      <td>Unanswered</td>\n",
       "      <td>MI</td>\n",
       "      <td>Unanswered</td>\n",
       "      <td>48309.0</td>\n",
       "      <td>Human Resources Consulting Services</td>\n",
       "      <td>286838</td>\n",
       "    </tr>\n",
       "    <tr>\n",
       "      <th>3</th>\n",
       "      <td>3</td>\n",
       "      <td>Independent Contractors</td>\n",
       "      <td>PA - 01</td>\n",
       "      <td>PHILADELPHIA</td>\n",
       "      <td>06/24/2020</td>\n",
       "      <td>Male Owned</td>\n",
       "      <td>1.0</td>\n",
       "      <td>Sun FCU</td>\n",
       "      <td>$0-7964</td>\n",
       "      <td>541430.0</td>\n",
       "      <td>N</td>\n",
       "      <td>White</td>\n",
       "      <td>PA</td>\n",
       "      <td>Unanswered</td>\n",
       "      <td>19123.0</td>\n",
       "      <td>Graphic Design Services</td>\n",
       "      <td>3727822</td>\n",
       "    </tr>\n",
       "    <tr>\n",
       "      <th>4</th>\n",
       "      <td>4</td>\n",
       "      <td>Sole Proprietorship</td>\n",
       "      <td>TX - 30</td>\n",
       "      <td>DALLAS</td>\n",
       "      <td>04/15/2020</td>\n",
       "      <td>Unanswered</td>\n",
       "      <td>10.0</td>\n",
       "      <td>Texas Capital Bank, National Association</td>\n",
       "      <td>$56313-150000</td>\n",
       "      <td>522291.0</td>\n",
       "      <td>N</td>\n",
       "      <td>Unanswered</td>\n",
       "      <td>TX</td>\n",
       "      <td>Unanswered</td>\n",
       "      <td>75223.0</td>\n",
       "      <td>Consumer Lending</td>\n",
       "      <td>3960482</td>\n",
       "    </tr>\n",
       "  </tbody>\n",
       "</table>\n",
       "</div>"
      ],
      "text/plain": [
       "   Unnamed: 0                     BusinessType       CD             City  \\\n",
       "0           0          Independent Contractors  CA - 49         LA JOLLA   \n",
       "1           1  Limited  Liability Company(LLC)  CA - 39             BREA   \n",
       "2           2  Limited  Liability Company(LLC)  MI - 08  ROCHESTER HILLS   \n",
       "3           3          Independent Contractors  PA - 01     PHILADELPHIA   \n",
       "4           4              Sole Proprietorship  TX - 30           DALLAS   \n",
       "\n",
       "  DateApproved      Gender  JobsRetained  \\\n",
       "0   04/30/2020  Unanswered           1.0   \n",
       "1   04/30/2020  Male Owned           4.0   \n",
       "2   04/06/2020  Unanswered         208.0   \n",
       "3   06/24/2020  Male Owned           1.0   \n",
       "4   04/15/2020  Unanswered          10.0   \n",
       "\n",
       "                                     Lender      LoanRange  NAICSCode  \\\n",
       "0           U.S. Bank, National Association   $16300-27300   531210.0   \n",
       "1     Bank of America, National Association    $7964-16300   423490.0   \n",
       "2                               Oxford Bank   $2-5 million   541612.0   \n",
       "3                                   Sun FCU        $0-7964   541430.0   \n",
       "4  Texas Capital Bank, National Association  $56313-150000   522291.0   \n",
       "\n",
       "  NonProfit RaceEthnicity State      Veteran      Zip  \\\n",
       "0         N    Unanswered    CA   Unanswered  92037.0   \n",
       "1         N    Unanswered    CA  Non-Veteran  92821.0   \n",
       "2         N    Unanswered    MI   Unanswered  48309.0   \n",
       "3         N         White    PA   Unanswered  19123.0   \n",
       "4         N    Unanswered    TX   Unanswered  75223.0   \n",
       "\n",
       "                                            Industry    Index  \n",
       "0          Offices of Real Estate Agents and Brokers  1026947  \n",
       "1  Other Professional Equipment and Supplies Merc...  1143280  \n",
       "2               Human Resources Consulting Services    286838  \n",
       "3                            Graphic Design Services  3727822  \n",
       "4                                  Consumer Lending   3960482  "
      ]
     },
     "execution_count": 3,
     "metadata": {},
     "output_type": "execute_result"
    }
   ],
   "source": [
    "raw_data.head()"
   ]
  },
  {
   "cell_type": "code",
   "execution_count": 4,
   "metadata": {},
   "outputs": [
    {
     "data": {
      "text/html": [
       "<div>\n",
       "<style scoped>\n",
       "    .dataframe tbody tr th:only-of-type {\n",
       "        vertical-align: middle;\n",
       "    }\n",
       "\n",
       "    .dataframe tbody tr th {\n",
       "        vertical-align: top;\n",
       "    }\n",
       "\n",
       "    .dataframe thead th {\n",
       "        text-align: right;\n",
       "    }\n",
       "</style>\n",
       "<table border=\"1\" class=\"dataframe\">\n",
       "  <thead>\n",
       "    <tr style=\"text-align: right;\">\n",
       "      <th></th>\n",
       "      <th>BusinessType</th>\n",
       "      <th>CD</th>\n",
       "      <th>City</th>\n",
       "      <th>DateApproved</th>\n",
       "      <th>Gender</th>\n",
       "      <th>JobsRetained</th>\n",
       "      <th>Lender</th>\n",
       "      <th>LoanRange</th>\n",
       "      <th>NAICSCode</th>\n",
       "      <th>NonProfit</th>\n",
       "      <th>RaceEthnicity</th>\n",
       "      <th>State</th>\n",
       "      <th>Veteran</th>\n",
       "      <th>Zip</th>\n",
       "      <th>Industry</th>\n",
       "      <th>Index</th>\n",
       "    </tr>\n",
       "  </thead>\n",
       "  <tbody>\n",
       "    <tr>\n",
       "      <th>count</th>\n",
       "      <td>3963196</td>\n",
       "      <td>3966377</td>\n",
       "      <td>3966339</td>\n",
       "      <td>3966377</td>\n",
       "      <td>3966377</td>\n",
       "      <td>3.966377e+06</td>\n",
       "      <td>3966377</td>\n",
       "      <td>3966377</td>\n",
       "      <td>3.966377e+06</td>\n",
       "      <td>3966377</td>\n",
       "      <td>3966377</td>\n",
       "      <td>3966377</td>\n",
       "      <td>3966377</td>\n",
       "      <td>3.966343e+06</td>\n",
       "      <td>3966377</td>\n",
       "      <td>3.966377e+06</td>\n",
       "    </tr>\n",
       "    <tr>\n",
       "      <th>unique</th>\n",
       "      <td>17</td>\n",
       "      <td>525</td>\n",
       "      <td>33772</td>\n",
       "      <td>79</td>\n",
       "      <td>3</td>\n",
       "      <td>NaN</td>\n",
       "      <td>4858</td>\n",
       "      <td>10</td>\n",
       "      <td>NaN</td>\n",
       "      <td>2</td>\n",
       "      <td>9</td>\n",
       "      <td>51</td>\n",
       "      <td>3</td>\n",
       "      <td>NaN</td>\n",
       "      <td>1057</td>\n",
       "      <td>NaN</td>\n",
       "    </tr>\n",
       "    <tr>\n",
       "      <th>top</th>\n",
       "      <td>Corporation</td>\n",
       "      <td>TX - 02</td>\n",
       "      <td>NEW YORK</td>\n",
       "      <td>04/28/2020</td>\n",
       "      <td>Unanswered</td>\n",
       "      <td>NaN</td>\n",
       "      <td>Bank of America, National Association</td>\n",
       "      <td>$56313-150000</td>\n",
       "      <td>NaN</td>\n",
       "      <td>N</td>\n",
       "      <td>Unanswered</td>\n",
       "      <td>CA</td>\n",
       "      <td>Unanswered</td>\n",
       "      <td>NaN</td>\n",
       "      <td>Full-Service Restaurants</td>\n",
       "      <td>NaN</td>\n",
       "    </tr>\n",
       "    <tr>\n",
       "      <th>freq</th>\n",
       "      <td>1149395</td>\n",
       "      <td>27714</td>\n",
       "      <td>47649</td>\n",
       "      <td>373702</td>\n",
       "      <td>3038019</td>\n",
       "      <td>NaN</td>\n",
       "      <td>269464</td>\n",
       "      <td>691621</td>\n",
       "      <td>NaN</td>\n",
       "      <td>3813123</td>\n",
       "      <td>3507995</td>\n",
       "      <td>454229</td>\n",
       "      <td>3337009</td>\n",
       "      <td>NaN</td>\n",
       "      <td>146877</td>\n",
       "      <td>NaN</td>\n",
       "    </tr>\n",
       "    <tr>\n",
       "      <th>mean</th>\n",
       "      <td>NaN</td>\n",
       "      <td>NaN</td>\n",
       "      <td>NaN</td>\n",
       "      <td>NaN</td>\n",
       "      <td>NaN</td>\n",
       "      <td>1.139693e+01</td>\n",
       "      <td>NaN</td>\n",
       "      <td>NaN</td>\n",
       "      <td>5.295676e+05</td>\n",
       "      <td>NaN</td>\n",
       "      <td>NaN</td>\n",
       "      <td>NaN</td>\n",
       "      <td>NaN</td>\n",
       "      <td>5.149352e+04</td>\n",
       "      <td>NaN</td>\n",
       "      <td>2.266325e+06</td>\n",
       "    </tr>\n",
       "    <tr>\n",
       "      <th>std</th>\n",
       "      <td>NaN</td>\n",
       "      <td>NaN</td>\n",
       "      <td>NaN</td>\n",
       "      <td>NaN</td>\n",
       "      <td>NaN</td>\n",
       "      <td>3.262006e+01</td>\n",
       "      <td>NaN</td>\n",
       "      <td>NaN</td>\n",
       "      <td>1.790093e+05</td>\n",
       "      <td>NaN</td>\n",
       "      <td>NaN</td>\n",
       "      <td>NaN</td>\n",
       "      <td>NaN</td>\n",
       "      <td>2.954638e+04</td>\n",
       "      <td>NaN</td>\n",
       "      <td>1.319637e+06</td>\n",
       "    </tr>\n",
       "    <tr>\n",
       "      <th>min</th>\n",
       "      <td>NaN</td>\n",
       "      <td>NaN</td>\n",
       "      <td>NaN</td>\n",
       "      <td>NaN</td>\n",
       "      <td>NaN</td>\n",
       "      <td>0.000000e+00</td>\n",
       "      <td>NaN</td>\n",
       "      <td>NaN</td>\n",
       "      <td>1.111100e+05</td>\n",
       "      <td>NaN</td>\n",
       "      <td>NaN</td>\n",
       "      <td>NaN</td>\n",
       "      <td>NaN</td>\n",
       "      <td>9.200000e+01</td>\n",
       "      <td>NaN</td>\n",
       "      <td>0.000000e+00</td>\n",
       "    </tr>\n",
       "    <tr>\n",
       "      <th>25%</th>\n",
       "      <td>NaN</td>\n",
       "      <td>NaN</td>\n",
       "      <td>NaN</td>\n",
       "      <td>NaN</td>\n",
       "      <td>NaN</td>\n",
       "      <td>1.000000e+00</td>\n",
       "      <td>NaN</td>\n",
       "      <td>NaN</td>\n",
       "      <td>4.451100e+05</td>\n",
       "      <td>NaN</td>\n",
       "      <td>NaN</td>\n",
       "      <td>NaN</td>\n",
       "      <td>NaN</td>\n",
       "      <td>2.857200e+04</td>\n",
       "      <td>NaN</td>\n",
       "      <td>1.125314e+06</td>\n",
       "    </tr>\n",
       "    <tr>\n",
       "      <th>50%</th>\n",
       "      <td>NaN</td>\n",
       "      <td>NaN</td>\n",
       "      <td>NaN</td>\n",
       "      <td>NaN</td>\n",
       "      <td>NaN</td>\n",
       "      <td>3.000000e+00</td>\n",
       "      <td>NaN</td>\n",
       "      <td>NaN</td>\n",
       "      <td>5.412130e+05</td>\n",
       "      <td>NaN</td>\n",
       "      <td>NaN</td>\n",
       "      <td>NaN</td>\n",
       "      <td>NaN</td>\n",
       "      <td>4.940800e+04</td>\n",
       "      <td>NaN</td>\n",
       "      <td>2.260370e+06</td>\n",
       "    </tr>\n",
       "    <tr>\n",
       "      <th>75%</th>\n",
       "      <td>NaN</td>\n",
       "      <td>NaN</td>\n",
       "      <td>NaN</td>\n",
       "      <td>NaN</td>\n",
       "      <td>NaN</td>\n",
       "      <td>9.000000e+00</td>\n",
       "      <td>NaN</td>\n",
       "      <td>NaN</td>\n",
       "      <td>6.216100e+05</td>\n",
       "      <td>NaN</td>\n",
       "      <td>NaN</td>\n",
       "      <td>NaN</td>\n",
       "      <td>NaN</td>\n",
       "      <td>7.813200e+04</td>\n",
       "      <td>NaN</td>\n",
       "      <td>3.399381e+06</td>\n",
       "    </tr>\n",
       "    <tr>\n",
       "      <th>max</th>\n",
       "      <td>NaN</td>\n",
       "      <td>NaN</td>\n",
       "      <td>NaN</td>\n",
       "      <td>NaN</td>\n",
       "      <td>NaN</td>\n",
       "      <td>5.000000e+02</td>\n",
       "      <td>NaN</td>\n",
       "      <td>NaN</td>\n",
       "      <td>9.281200e+05</td>\n",
       "      <td>NaN</td>\n",
       "      <td>NaN</td>\n",
       "      <td>NaN</td>\n",
       "      <td>NaN</td>\n",
       "      <td>9.995000e+04</td>\n",
       "      <td>NaN</td>\n",
       "      <td>4.561258e+06</td>\n",
       "    </tr>\n",
       "  </tbody>\n",
       "</table>\n",
       "</div>"
      ],
      "text/plain": [
       "       BusinessType       CD      City DateApproved      Gender  JobsRetained  \\\n",
       "count       3963196  3966377   3966339      3966377     3966377  3.966377e+06   \n",
       "unique           17      525     33772           79           3           NaN   \n",
       "top     Corporation  TX - 02  NEW YORK   04/28/2020  Unanswered           NaN   \n",
       "freq        1149395    27714     47649       373702     3038019           NaN   \n",
       "mean            NaN      NaN       NaN          NaN         NaN  1.139693e+01   \n",
       "std             NaN      NaN       NaN          NaN         NaN  3.262006e+01   \n",
       "min             NaN      NaN       NaN          NaN         NaN  0.000000e+00   \n",
       "25%             NaN      NaN       NaN          NaN         NaN  1.000000e+00   \n",
       "50%             NaN      NaN       NaN          NaN         NaN  3.000000e+00   \n",
       "75%             NaN      NaN       NaN          NaN         NaN  9.000000e+00   \n",
       "max             NaN      NaN       NaN          NaN         NaN  5.000000e+02   \n",
       "\n",
       "                                       Lender      LoanRange     NAICSCode  \\\n",
       "count                                 3966377        3966377  3.966377e+06   \n",
       "unique                                   4858             10           NaN   \n",
       "top     Bank of America, National Association  $56313-150000           NaN   \n",
       "freq                                   269464         691621           NaN   \n",
       "mean                                      NaN            NaN  5.295676e+05   \n",
       "std                                       NaN            NaN  1.790093e+05   \n",
       "min                                       NaN            NaN  1.111100e+05   \n",
       "25%                                       NaN            NaN  4.451100e+05   \n",
       "50%                                       NaN            NaN  5.412130e+05   \n",
       "75%                                       NaN            NaN  6.216100e+05   \n",
       "max                                       NaN            NaN  9.281200e+05   \n",
       "\n",
       "       NonProfit RaceEthnicity    State     Veteran           Zip  \\\n",
       "count    3966377       3966377  3966377     3966377  3.966343e+06   \n",
       "unique         2             9       51           3           NaN   \n",
       "top            N    Unanswered       CA  Unanswered           NaN   \n",
       "freq     3813123       3507995   454229     3337009           NaN   \n",
       "mean         NaN           NaN      NaN         NaN  5.149352e+04   \n",
       "std          NaN           NaN      NaN         NaN  2.954638e+04   \n",
       "min          NaN           NaN      NaN         NaN  9.200000e+01   \n",
       "25%          NaN           NaN      NaN         NaN  2.857200e+04   \n",
       "50%          NaN           NaN      NaN         NaN  4.940800e+04   \n",
       "75%          NaN           NaN      NaN         NaN  7.813200e+04   \n",
       "max          NaN           NaN      NaN         NaN  9.995000e+04   \n",
       "\n",
       "                         Industry         Index  \n",
       "count                     3966377  3.966377e+06  \n",
       "unique                       1057           NaN  \n",
       "top     Full-Service Restaurants            NaN  \n",
       "freq                       146877           NaN  \n",
       "mean                          NaN  2.266325e+06  \n",
       "std                           NaN  1.319637e+06  \n",
       "min                           NaN  0.000000e+00  \n",
       "25%                           NaN  1.125314e+06  \n",
       "50%                           NaN  2.260370e+06  \n",
       "75%                           NaN  3.399381e+06  \n",
       "max                           NaN  4.561258e+06  "
      ]
     },
     "execution_count": 4,
     "metadata": {},
     "output_type": "execute_result"
    }
   ],
   "source": [
    "raw_data = raw_data.drop('Unnamed: 0', axis=1)\n",
    "raw_data.describe(include='all')"
   ]
  },
  {
   "cell_type": "code",
   "execution_count": 5,
   "metadata": {},
   "outputs": [
    {
     "data": {
      "text/plain": [
       "(3966377, 16)"
      ]
     },
     "execution_count": 5,
     "metadata": {},
     "output_type": "execute_result"
    }
   ],
   "source": [
    "raw_data.shape"
   ]
  },
  {
   "cell_type": "code",
   "execution_count": 6,
   "metadata": {},
   "outputs": [
    {
     "name": "stderr",
     "output_type": "stream",
     "text": [
      "C:\\Users\\animathur\\AppData\\Local\\Continuum\\anaconda3\\envs\\py3-TensorFlow2\\lib\\site-packages\\seaborn\\distributions.py:2551: FutureWarning: `distplot` is a deprecated function and will be removed in a future version. Please adapt your code to use either `displot` (a figure-level function with similar flexibility) or `histplot` (an axes-level function for histograms).\n",
      "  warnings.warn(msg, FutureWarning)\n"
     ]
    },
    {
     "data": {
      "text/plain": [
       "<AxesSubplot:xlabel='JobsRetained', ylabel='Density'>"
      ]
     },
     "execution_count": 6,
     "metadata": {},
     "output_type": "execute_result"
    },
    {
     "data": {
      "image/png": "[encoded data removed]",
      "text/plain": [
       "<Figure size 432x288 with 1 Axes>"
      ]
     },
     "metadata": {},
     "output_type": "display_data"
    }
   ],
   "source": [
    "sns.distplot(raw_data['JobsRetained'])"
   ]
  },
  {
   "cell_type": "code",
   "execution_count": 7,
   "metadata": {},
   "outputs": [],
   "source": [
    "data_excluding_outliers = raw_data[raw_data['JobsRetained'] < raw_data['JobsRetained'].quantile(0.95)]"
   ]
  },
  {
   "cell_type": "code",
   "execution_count": 8,
   "metadata": {},
   "outputs": [
    {
     "name": "stderr",
     "output_type": "stream",
     "text": [
      "C:\\Users\\animathur\\AppData\\Local\\Continuum\\anaconda3\\envs\\py3-TensorFlow2\\lib\\site-packages\\seaborn\\distributions.py:2551: FutureWarning: `distplot` is a deprecated function and will be removed in a future version. Please adapt your code to use either `displot` (a figure-level function with similar flexibility) or `histplot` (an axes-level function for histograms).\n",
      "  warnings.warn(msg, FutureWarning)\n"
     ]
    },
    {
     "data": {
      "text/plain": [
       "<AxesSubplot:xlabel='JobsRetained', ylabel='Density'>"
      ]
     },
     "execution_count": 8,
     "metadata": {},
     "output_type": "execute_result"
    },
    {
     "data": {
      "image/png": "[encoded data removed]",
      "text/plain": [
       "<Figure size 432x288 with 1 Axes>"
      ]
     },
     "metadata": {},
     "output_type": "display_data"
    }
   ],
   "source": [
    "sns.distplot(data_excluding_outliers['JobsRetained'])"
   ]
  },
  {
   "cell_type": "code",
   "execution_count": 46,
   "metadata": {},
   "outputs": [
    {
     "data": {
      "text/plain": [
       "0          0.000000\n",
       "1          1.386294\n",
       "3          0.000000\n",
       "4          2.302585\n",
       "5          2.079442\n",
       "             ...   \n",
       "3966372    3.044522\n",
       "3966373    1.098612\n",
       "3966374    2.302585\n",
       "3966375    2.079442\n",
       "3966376    0.000000\n",
       "Name: JobsRetained, Length: 3767925, dtype: float64"
      ]
     },
     "execution_count": 46,
     "metadata": {},
     "output_type": "execute_result"
    }
   ],
   "source": [
    "data_excluding_outliers['JobsRetained'].apply(lambda x: np.log(x+0.0000001))"
   ]
  },
  {
   "cell_type": "code",
   "execution_count": 52,
   "metadata": {},
   "outputs": [
    {
     "name": "stderr",
     "output_type": "stream",
     "text": [
      "C:\\Users\\animathur\\AppData\\Local\\Continuum\\anaconda3\\envs\\py3-TensorFlow2\\lib\\site-packages\\seaborn\\distributions.py:2551: FutureWarning: `distplot` is a deprecated function and will be removed in a future version. Please adapt your code to use either `displot` (a figure-level function with similar flexibility) or `histplot` (an axes-level function for histograms).\n",
      "  warnings.warn(msg, FutureWarning)\n"
     ]
    },
    {
     "data": {
      "text/plain": [
       "<AxesSubplot:xlabel='JobsRetained', ylabel='Density'>"
      ]
     },
     "execution_count": 52,
     "metadata": {},
     "output_type": "execute_result"
    },
    {
     "data": {
      "image/png": "[encoded data removed]",
      "text/plain": [
       "<Figure size 432x288 with 1 Axes>"
      ]
     },
     "metadata": {},
     "output_type": "display_data"
    }
   ],
   "source": [
    "sns.distplot(data_excluding_outliers['JobsRetained'].apply(lambda x: abs(np.log(x+0.00000000001))))"
   ]
  },
  {
   "cell_type": "code",
   "execution_count": 9,
   "metadata": {},
   "outputs": [
    {
     "data": {
      "text/plain": [
       "array(['Independent Contractors', 'Limited  Liability Company(LLC)',\n",
       "       'Sole Proprietorship', 'Corporation', 'Subchapter S Corporation',\n",
       "       'Self-Employed Individuals', 'Non-Profit Organization',\n",
       "       'Partnership', 'Professional Association',\n",
       "       'Limited Liability Partnership', 'Cooperative', nan, 'Trust',\n",
       "       'Non-Profit Childcare Center', 'Tenant in Common',\n",
       "       'Employee Stock Ownership Plan(ESOP)', 'Joint Venture',\n",
       "       'Rollover as Business Start-Ups (ROB'], dtype=object)"
      ]
     },
     "execution_count": 9,
     "metadata": {},
     "output_type": "execute_result"
    }
   ],
   "source": [
    "data_excluding_outliers['BusinessType'].unique()"
   ]
  },
  {
   "cell_type": "code",
   "execution_count": 10,
   "metadata": {},
   "outputs": [],
   "source": [
    "data_null_imputed = data_excluding_outliers.copy()\n",
    "data_null_imputed['BusinessType'] = data_excluding_outliers['BusinessType'].fillna('Other_BT')"
   ]
  },
  {
   "cell_type": "code",
   "execution_count": 11,
   "metadata": {},
   "outputs": [],
   "source": [
    "data_null_imputed['City'] = data_excluding_outliers['City'].fillna('Other City')"
   ]
  },
  {
   "cell_type": "code",
   "execution_count": 12,
   "metadata": {},
   "outputs": [],
   "source": [
    "data_with_eliminated_columns = data_null_imputed.drop(columns=['Zip', 'City', 'State', 'Gender', 'NAICSCode', 'DateApproved', 'Lender', 'Industry', 'Index'], axis=1)"
   ]
  },
  {
   "cell_type": "code",
   "execution_count": 13,
   "metadata": {
    "scrolled": false
   },
   "outputs": [
    {
     "data": {
      "text/html": [
       "<div>\n",
       "<style scoped>\n",
       "    .dataframe tbody tr th:only-of-type {\n",
       "        vertical-align: middle;\n",
       "    }\n",
       "\n",
       "    .dataframe tbody tr th {\n",
       "        vertical-align: top;\n",
       "    }\n",
       "\n",
       "    .dataframe thead th {\n",
       "        text-align: right;\n",
       "    }\n",
       "</style>\n",
       "<table border=\"1\" class=\"dataframe\">\n",
       "  <thead>\n",
       "    <tr style=\"text-align: right;\">\n",
       "      <th></th>\n",
       "      <th>BusinessType</th>\n",
       "      <th>CD</th>\n",
       "      <th>JobsRetained</th>\n",
       "      <th>LoanRange</th>\n",
       "      <th>NonProfit</th>\n",
       "      <th>RaceEthnicity</th>\n",
       "      <th>Veteran</th>\n",
       "    </tr>\n",
       "  </thead>\n",
       "  <tbody>\n",
       "    <tr>\n",
       "      <th>count</th>\n",
       "      <td>3767925</td>\n",
       "      <td>3767925</td>\n",
       "      <td>3.767925e+06</td>\n",
       "      <td>3767925</td>\n",
       "      <td>3767925</td>\n",
       "      <td>3767925</td>\n",
       "      <td>3767925</td>\n",
       "    </tr>\n",
       "    <tr>\n",
       "      <th>unique</th>\n",
       "      <td>18</td>\n",
       "      <td>521</td>\n",
       "      <td>NaN</td>\n",
       "      <td>10</td>\n",
       "      <td>2</td>\n",
       "      <td>9</td>\n",
       "      <td>3</td>\n",
       "    </tr>\n",
       "    <tr>\n",
       "      <th>top</th>\n",
       "      <td>Limited  Liability Company(LLC)</td>\n",
       "      <td>TX - 02</td>\n",
       "      <td>NaN</td>\n",
       "      <td>$0-7964</td>\n",
       "      <td>N</td>\n",
       "      <td>Unanswered</td>\n",
       "      <td>Unanswered</td>\n",
       "    </tr>\n",
       "    <tr>\n",
       "      <th>freq</th>\n",
       "      <td>1094312</td>\n",
       "      <td>25845</td>\n",
       "      <td>NaN</td>\n",
       "      <td>680304</td>\n",
       "      <td>3634019</td>\n",
       "      <td>3339780</td>\n",
       "      <td>3180750</td>\n",
       "    </tr>\n",
       "    <tr>\n",
       "      <th>mean</th>\n",
       "      <td>NaN</td>\n",
       "      <td>NaN</td>\n",
       "      <td>6.044744e+00</td>\n",
       "      <td>NaN</td>\n",
       "      <td>NaN</td>\n",
       "      <td>NaN</td>\n",
       "      <td>NaN</td>\n",
       "    </tr>\n",
       "    <tr>\n",
       "      <th>std</th>\n",
       "      <td>NaN</td>\n",
       "      <td>NaN</td>\n",
       "      <td>7.997668e+00</td>\n",
       "      <td>NaN</td>\n",
       "      <td>NaN</td>\n",
       "      <td>NaN</td>\n",
       "      <td>NaN</td>\n",
       "    </tr>\n",
       "    <tr>\n",
       "      <th>min</th>\n",
       "      <td>NaN</td>\n",
       "      <td>NaN</td>\n",
       "      <td>0.000000e+00</td>\n",
       "      <td>NaN</td>\n",
       "      <td>NaN</td>\n",
       "      <td>NaN</td>\n",
       "      <td>NaN</td>\n",
       "    </tr>\n",
       "    <tr>\n",
       "      <th>25%</th>\n",
       "      <td>NaN</td>\n",
       "      <td>NaN</td>\n",
       "      <td>1.000000e+00</td>\n",
       "      <td>NaN</td>\n",
       "      <td>NaN</td>\n",
       "      <td>NaN</td>\n",
       "      <td>NaN</td>\n",
       "    </tr>\n",
       "    <tr>\n",
       "      <th>50%</th>\n",
       "      <td>NaN</td>\n",
       "      <td>NaN</td>\n",
       "      <td>3.000000e+00</td>\n",
       "      <td>NaN</td>\n",
       "      <td>NaN</td>\n",
       "      <td>NaN</td>\n",
       "      <td>NaN</td>\n",
       "    </tr>\n",
       "    <tr>\n",
       "      <th>75%</th>\n",
       "      <td>NaN</td>\n",
       "      <td>NaN</td>\n",
       "      <td>8.000000e+00</td>\n",
       "      <td>NaN</td>\n",
       "      <td>NaN</td>\n",
       "      <td>NaN</td>\n",
       "      <td>NaN</td>\n",
       "    </tr>\n",
       "    <tr>\n",
       "      <th>max</th>\n",
       "      <td>NaN</td>\n",
       "      <td>NaN</td>\n",
       "      <td>4.300000e+01</td>\n",
       "      <td>NaN</td>\n",
       "      <td>NaN</td>\n",
       "      <td>NaN</td>\n",
       "      <td>NaN</td>\n",
       "    </tr>\n",
       "  </tbody>\n",
       "</table>\n",
       "</div>"
      ],
      "text/plain": [
       "                           BusinessType       CD  JobsRetained LoanRange  \\\n",
       "count                           3767925  3767925  3.767925e+06   3767925   \n",
       "unique                               18      521           NaN        10   \n",
       "top     Limited  Liability Company(LLC)  TX - 02           NaN   $0-7964   \n",
       "freq                            1094312    25845           NaN    680304   \n",
       "mean                                NaN      NaN  6.044744e+00       NaN   \n",
       "std                                 NaN      NaN  7.997668e+00       NaN   \n",
       "min                                 NaN      NaN  0.000000e+00       NaN   \n",
       "25%                                 NaN      NaN  1.000000e+00       NaN   \n",
       "50%                                 NaN      NaN  3.000000e+00       NaN   \n",
       "75%                                 NaN      NaN  8.000000e+00       NaN   \n",
       "max                                 NaN      NaN  4.300000e+01       NaN   \n",
       "\n",
       "       NonProfit RaceEthnicity     Veteran  \n",
       "count    3767925       3767925     3767925  \n",
       "unique         2             9           3  \n",
       "top            N    Unanswered  Unanswered  \n",
       "freq     3634019       3339780     3180750  \n",
       "mean         NaN           NaN         NaN  \n",
       "std          NaN           NaN         NaN  \n",
       "min          NaN           NaN         NaN  \n",
       "25%          NaN           NaN         NaN  \n",
       "50%          NaN           NaN         NaN  \n",
       "75%          NaN           NaN         NaN  \n",
       "max          NaN           NaN         NaN  "
      ]
     },
     "execution_count": 13,
     "metadata": {},
     "output_type": "execute_result"
    }
   ],
   "source": [
    "data_with_eliminated_columns.describe(include='all')"
   ]
  },
  {
   "cell_type": "code",
   "execution_count": 14,
   "metadata": {},
   "outputs": [
    {
     "data": {
      "text/plain": [
       "3766492"
      ]
     },
     "execution_count": 14,
     "metadata": {},
     "output_type": "execute_result"
    }
   ],
   "source": [
    "data_cleaned = data_with_eliminated_columns.copy()\n",
    "# drop incomplete values of CD\n",
    "filter_valid_CD = lambda cd: cd.split('-')[1].strip() != ''\n",
    "data_cleaned = data_cleaned[data_cleaned['CD'].apply(filter_valid_CD)]\n",
    "len(data_cleaned)"
   ]
  },
  {
   "cell_type": "code",
   "execution_count": null,
   "metadata": {},
   "outputs": [],
   "source": [
    "# check for inconsistency of CD with State\n",
    "# unique_states = data_cleaned['State'].unique()\n",
    "# check_CD_State = lambda cd: len(np.where(unique_states == cd.split('-')[0].strip())[0]) == 0\n",
    "# print(data_cleaned[data_cleaned['CD'].apply(check_CD_State)])\n",
    "# print(unique_states)"
   ]
  },
  {
   "cell_type": "markdown",
   "metadata": {},
   "source": [
    "Looks like record on 376784 is incorrect because CD and state dont match."
   ]
  },
  {
   "cell_type": "code",
   "execution_count": null,
   "metadata": {},
   "outputs": [],
   "source": [
    "# # Removing row at index 376784 due to inconsistency in CD and state\n",
    "# data_cleaned = data_cleaned.drop(index=376784)\n",
    "# len(data_cleaned)"
   ]
  },
  {
   "cell_type": "code",
   "execution_count": null,
   "metadata": {},
   "outputs": [],
   "source": [
    "# data_cleaned = data_with_eliminated_columns.copy()\n",
    "# data_cleaned['NAICSCode'] = data_cleaned['NAICSCode'].astype(str)"
   ]
  },
  {
   "cell_type": "code",
   "execution_count": 15,
   "metadata": {},
   "outputs": [],
   "source": [
    "# Rearrange columns\n",
    "data_cleaned = data_cleaned[['BusinessType', 'CD', 'LoanRange', 'NonProfit',\n",
    "       'RaceEthnicity', 'Veteran', 'JobsRetained']]"
   ]
  },
  {
   "cell_type": "code",
   "execution_count": 16,
   "metadata": {},
   "outputs": [
    {
     "data": {
      "text/html": [
       "<div>\n",
       "<style scoped>\n",
       "    .dataframe tbody tr th:only-of-type {\n",
       "        vertical-align: middle;\n",
       "    }\n",
       "\n",
       "    .dataframe tbody tr th {\n",
       "        vertical-align: top;\n",
       "    }\n",
       "\n",
       "    .dataframe thead th {\n",
       "        text-align: right;\n",
       "    }\n",
       "</style>\n",
       "<table border=\"1\" class=\"dataframe\">\n",
       "  <thead>\n",
       "    <tr style=\"text-align: right;\">\n",
       "      <th></th>\n",
       "      <th>BusinessType</th>\n",
       "      <th>CD</th>\n",
       "      <th>LoanRange</th>\n",
       "      <th>NonProfit</th>\n",
       "      <th>RaceEthnicity</th>\n",
       "      <th>Veteran</th>\n",
       "      <th>JobsRetained</th>\n",
       "    </tr>\n",
       "  </thead>\n",
       "  <tbody>\n",
       "    <tr>\n",
       "      <th>count</th>\n",
       "      <td>3766492</td>\n",
       "      <td>3766492</td>\n",
       "      <td>3766492</td>\n",
       "      <td>3766492</td>\n",
       "      <td>3766492</td>\n",
       "      <td>3766492</td>\n",
       "      <td>3.766492e+06</td>\n",
       "    </tr>\n",
       "    <tr>\n",
       "      <th>unique</th>\n",
       "      <td>18</td>\n",
       "      <td>494</td>\n",
       "      <td>10</td>\n",
       "      <td>2</td>\n",
       "      <td>9</td>\n",
       "      <td>3</td>\n",
       "      <td>NaN</td>\n",
       "    </tr>\n",
       "    <tr>\n",
       "      <th>top</th>\n",
       "      <td>Limited  Liability Company(LLC)</td>\n",
       "      <td>TX - 02</td>\n",
       "      <td>$0-7964</td>\n",
       "      <td>N</td>\n",
       "      <td>Unanswered</td>\n",
       "      <td>Unanswered</td>\n",
       "      <td>NaN</td>\n",
       "    </tr>\n",
       "    <tr>\n",
       "      <th>freq</th>\n",
       "      <td>1093815</td>\n",
       "      <td>25845</td>\n",
       "      <td>680060</td>\n",
       "      <td>3632608</td>\n",
       "      <td>3338457</td>\n",
       "      <td>3179533</td>\n",
       "      <td>NaN</td>\n",
       "    </tr>\n",
       "    <tr>\n",
       "      <th>mean</th>\n",
       "      <td>NaN</td>\n",
       "      <td>NaN</td>\n",
       "      <td>NaN</td>\n",
       "      <td>NaN</td>\n",
       "      <td>NaN</td>\n",
       "      <td>NaN</td>\n",
       "      <td>6.044692e+00</td>\n",
       "    </tr>\n",
       "    <tr>\n",
       "      <th>std</th>\n",
       "      <td>NaN</td>\n",
       "      <td>NaN</td>\n",
       "      <td>NaN</td>\n",
       "      <td>NaN</td>\n",
       "      <td>NaN</td>\n",
       "      <td>NaN</td>\n",
       "      <td>7.997688e+00</td>\n",
       "    </tr>\n",
       "    <tr>\n",
       "      <th>min</th>\n",
       "      <td>NaN</td>\n",
       "      <td>NaN</td>\n",
       "      <td>NaN</td>\n",
       "      <td>NaN</td>\n",
       "      <td>NaN</td>\n",
       "      <td>NaN</td>\n",
       "      <td>0.000000e+00</td>\n",
       "    </tr>\n",
       "    <tr>\n",
       "      <th>25%</th>\n",
       "      <td>NaN</td>\n",
       "      <td>NaN</td>\n",
       "      <td>NaN</td>\n",
       "      <td>NaN</td>\n",
       "      <td>NaN</td>\n",
       "      <td>NaN</td>\n",
       "      <td>1.000000e+00</td>\n",
       "    </tr>\n",
       "    <tr>\n",
       "      <th>50%</th>\n",
       "      <td>NaN</td>\n",
       "      <td>NaN</td>\n",
       "      <td>NaN</td>\n",
       "      <td>NaN</td>\n",
       "      <td>NaN</td>\n",
       "      <td>NaN</td>\n",
       "      <td>3.000000e+00</td>\n",
       "    </tr>\n",
       "    <tr>\n",
       "      <th>75%</th>\n",
       "      <td>NaN</td>\n",
       "      <td>NaN</td>\n",
       "      <td>NaN</td>\n",
       "      <td>NaN</td>\n",
       "      <td>NaN</td>\n",
       "      <td>NaN</td>\n",
       "      <td>8.000000e+00</td>\n",
       "    </tr>\n",
       "    <tr>\n",
       "      <th>max</th>\n",
       "      <td>NaN</td>\n",
       "      <td>NaN</td>\n",
       "      <td>NaN</td>\n",
       "      <td>NaN</td>\n",
       "      <td>NaN</td>\n",
       "      <td>NaN</td>\n",
       "      <td>4.300000e+01</td>\n",
       "    </tr>\n",
       "  </tbody>\n",
       "</table>\n",
       "</div>"
      ],
      "text/plain": [
       "                           BusinessType       CD LoanRange NonProfit  \\\n",
       "count                           3766492  3766492   3766492   3766492   \n",
       "unique                               18      494        10         2   \n",
       "top     Limited  Liability Company(LLC)  TX - 02   $0-7964         N   \n",
       "freq                            1093815    25845    680060   3632608   \n",
       "mean                                NaN      NaN       NaN       NaN   \n",
       "std                                 NaN      NaN       NaN       NaN   \n",
       "min                                 NaN      NaN       NaN       NaN   \n",
       "25%                                 NaN      NaN       NaN       NaN   \n",
       "50%                                 NaN      NaN       NaN       NaN   \n",
       "75%                                 NaN      NaN       NaN       NaN   \n",
       "max                                 NaN      NaN       NaN       NaN   \n",
       "\n",
       "       RaceEthnicity     Veteran  JobsRetained  \n",
       "count        3766492     3766492  3.766492e+06  \n",
       "unique             9           3           NaN  \n",
       "top       Unanswered  Unanswered           NaN  \n",
       "freq         3338457     3179533           NaN  \n",
       "mean             NaN         NaN  6.044692e+00  \n",
       "std              NaN         NaN  7.997688e+00  \n",
       "min              NaN         NaN  0.000000e+00  \n",
       "25%              NaN         NaN  1.000000e+00  \n",
       "50%              NaN         NaN  3.000000e+00  \n",
       "75%              NaN         NaN  8.000000e+00  \n",
       "max              NaN         NaN  4.300000e+01  "
      ]
     },
     "execution_count": 16,
     "metadata": {},
     "output_type": "execute_result"
    }
   ],
   "source": [
    "data_cleaned.describe(include='all')"
   ]
  },
  {
   "cell_type": "code",
   "execution_count": 17,
   "metadata": {},
   "outputs": [
    {
     "data": {
      "text/plain": [
       "array(['$16300-27300', '$7964-16300', '$0-7964', '$56313-150000',\n",
       "       '$27300-56313', '$150,000-350,000', '$350,000-1 million',\n",
       "       '$1-2 million', '$2-5 million', '$5-10 million'], dtype=object)"
      ]
     },
     "execution_count": 17,
     "metadata": {},
     "output_type": "execute_result"
    }
   ],
   "source": [
    "data_cleaned['LoanRange'].unique()"
   ]
  },
  {
   "cell_type": "code",
   "execution_count": 18,
   "metadata": {
    "scrolled": true
   },
   "outputs": [
    {
     "name": "stdout",
     "output_type": "stream",
     "text": [
      "['Independent Contractors' 'Limited  Liability Company(LLC)'\n",
      " 'Sole Proprietorship' 'Corporation' 'Subchapter S Corporation'\n",
      " 'Self-Employed Individuals' 'Non-Profit Organization' 'Partnership'\n",
      " 'Professional Association' 'Limited Liability Partnership' 'Cooperative'\n",
      " 'Other_BT' 'Trust' 'Non-Profit Childcare Center' 'Tenant in Common'\n",
      " 'Employee Stock Ownership Plan(ESOP)' 'Joint Venture'\n",
      " 'Rollover as Business Start-Ups (ROB'] 18\n",
      "['CA - 49' 'CA - 39' 'PA - 01' 'TX - 30' 'TX - 10' 'NH - 01' 'NC - 06'\n",
      " 'CA - 52' 'OK - 01' 'CA - 26' 'OR - 04' 'IL - 04' 'MN - 01' 'VA - 02'\n",
      " 'WI - 01' 'GA - 05' 'NC - 05' 'TX - 20' 'TN - 03' 'CT - 05' 'GA - 06'\n",
      " 'TX - 34' 'NY - 22' 'MI - 05' 'MO - 08' 'KS - 01' 'CA - 18' 'TX - 11'\n",
      " 'MI - 08' 'NE - 03' 'IA - 02' 'LA - 01' 'IN - 03' 'NY - 18' 'CA - 25'\n",
      " 'MN - 07' 'ND - 00' 'TN - 01' 'NJ - 03' 'PA - 17' 'NY - 01' 'FL - 23'\n",
      " 'SD - 00' 'MN - 08' 'SC - 01' 'NY - 21' 'ME - 02' 'ID - 01' 'IA - 04'\n",
      " 'TX - 01' 'CT - 04' 'TN - 07' 'TN - 05' 'IN - 05' 'FL - 16' 'MO - 04'\n",
      " 'CO - 04' 'UT - 04' 'WV - 01' 'VA - 10' 'SC - 04' 'PA - 16' 'AZ - 06'\n",
      " 'CA - 15' 'NY - 10' 'WA - 05' 'AR - 03' 'FL - 11' 'FL - 20' 'NJ - 04'\n",
      " 'WI - 04' 'TX - 06' 'FL - 18' 'UT - 02' 'UT - 01' 'VA - 11' 'FL - 12'\n",
      " 'ME - 01' 'OH - 01' 'IL - 18' 'FL - 03' 'GA - 01' 'CA - 06' 'MN - 06'\n",
      " 'MO - 06' 'TX - 02' 'OH - 11' 'CO - 01' 'IN - 07' 'DE - 00' 'ID - 02'\n",
      " 'TX - 19' 'OK - 02' 'AL - 05' 'PA - 12' 'NC - 13' 'TX - 15' 'WY - 00'\n",
      " 'IL - 05' 'CA - 33' 'NH - 02' 'CA - 42' 'NV - 01' 'WI - 06' 'MA - 09'\n",
      " 'TX - 21' 'CA - 27' 'CA - 31' 'TX - 04' 'CO - 03' 'GA - 07' 'GA - 10'\n",
      " 'TX - 03' 'NY - 19' 'NY - 09' 'VT - 00' 'AL - 02' 'NV - 04' 'NJ - 11'\n",
      " 'OH - 03' 'MA - 01' 'OH - 02' 'NJ - 05' 'WA - 01' 'CA - 29' 'AR - 01'\n",
      " 'SC - 06' 'FL - 07' 'OK - 05' 'MO - 07' 'PA - 05' 'IL - 08' 'MD - 01'\n",
      " 'CT - 03' 'MA - 04' 'CA - 34' 'CA - 11' 'CA - 24' 'AZ - 04' 'NY - 05'\n",
      " 'TX - 13' 'NC - 08' 'NJ - 09' 'VA - 07' 'OR - 01' 'GA - 12' 'TX - 07'\n",
      " 'MA - 08' 'FL - 25' 'CA - 21' 'RI - 01' 'CA - 45' 'FL - 04' 'PA - 14'\n",
      " 'IL - 13' 'IL - 03' 'IN - 02' 'MD - 06' 'TX - 26' 'MA - 07' 'PA - 10'\n",
      " 'MO - 01' 'VA - 01' 'MS - 01' 'NM - 02' 'NY - 15' 'FL - 27' 'NY - 08'\n",
      " 'NY - 07' 'OH - 07' 'LA - 05' 'OK - 03' 'FL - 08' 'IL - 02' 'WA - 02'\n",
      " 'NC - 04' 'GA - 14' 'MI - 01' 'FL - 26' 'IL - 14' 'VA - 05' 'CA - 28'\n",
      " 'TX - 14' 'GA - 02' 'CA - 50' 'GA - 09' 'AR - 02' 'MI - 12' 'OK - 04'\n",
      " 'SC - 03' 'TN - 04' 'TX - 29' 'FL - 01' 'PA - 15' 'OH - 09' 'PA - 09'\n",
      " 'MD - 03' 'MO - 05' 'MI - 10' 'OR - 03' 'MI - 11' 'AL - 01' 'CO - 02'\n",
      " 'PA - 08' 'NJ - 07' 'VA - 03' 'LA - 02' 'CA - 20' 'MI - 07' 'TX - 12'\n",
      " 'OR - 05' 'CA - 07' 'CA - 19' 'MI - 04' 'NC - 10' 'AL - 03' 'NY - 11'\n",
      " 'IL - 15' 'WI - 03' 'IL - 01' 'CA - 17' 'WA - 08' 'NY - 12' 'TN - 02'\n",
      " 'MA - 06' 'AZ - 01' 'IA - 01' 'SC - 02' 'GA - 08' 'NV - 03' 'NY - 20'\n",
      " 'MS - 04' 'CT - 02' 'MS - 03' 'MT - 00' 'FL - 21' 'KY - 01' 'FL - 24'\n",
      " 'NC - 11' 'LA - 04' 'FL - 19' 'AZ - 05' 'NC - 02' 'OR - 02' 'AL - 06'\n",
      " 'IL - 07' 'MI - 06' 'MI - 14' 'CA - 01' 'IL - 10' 'GA - 03' 'MD - 05'\n",
      " 'WA - 06' 'VA - 04' 'CA - 38' 'MN - 02' 'NY - 16' 'TX - 05' 'IL - 12'\n",
      " 'CA - 51' 'NE - 01' 'IN - 06' 'AL - 07' 'MA - 02' 'LA - 03' 'MI - 03'\n",
      " 'CA - 47' 'OH - 04' 'PA - 04' 'VA - 09' 'TX - 25' 'WI - 07' 'MI - 09'\n",
      " 'FL - 02' 'HI - 01' 'PA - 02' 'WI - 08' 'GA - 04' 'OH - 16' 'GA - 11'\n",
      " 'IL - 06' 'NY - 03' 'MI - 02' 'AL - 04' 'MA - 05' 'PA - 06' 'SC - 05'\n",
      " 'TX - 36' 'NY - 06' 'VA - 06' 'CO - 06' 'MO - 03' 'CA - 12' 'MN - 04'\n",
      " 'IN - 08' 'CA - 22' 'WA - 03' 'CA - 03' 'NC - 01' 'CA - 09' 'FL - 14'\n",
      " 'DC - 00' 'NJ - 08' 'WA - 07' 'UT - 03' 'MN - 03' 'KY - 02' 'WI - 02'\n",
      " 'VA - 08' 'TN - 08' 'TX - 08' 'TX - 24' 'CO - 07' 'NY - 02' 'PA - 03'\n",
      " 'CA - 46' 'MA - 03' 'NC - 03' 'OH - 10' 'CA - 02' 'NY - 25' 'NJ - 12'\n",
      " 'CA - 35' 'SC - 07' 'KY - 03' 'NM - 03' 'NY - 13' 'MD - 02' 'IN - 04'\n",
      " 'CA - 08' 'CA - 36' 'HI - 02' 'KS - 03' 'NJ - 02' 'CA - 23' 'TX - 17'\n",
      " 'NC - 09' 'TX - 27' 'IL - 16' 'CA - 13' 'NY - 24' 'NJ - 01' 'KY - 06'\n",
      " 'OH - 06' 'WA - 09' 'FL - 10' 'NY - 17' 'NY - 27' 'CA - 10' 'CA - 41'\n",
      " 'GA - 13' 'LA - 06' 'NY - 23' 'FL - 13' 'MO - 02' 'NM - 01' 'OH - 08'\n",
      " 'AZ - 03' 'CA - 30' 'FL - 09' 'TX - 31' 'OH - 05' 'CA - 04' 'FL - 15'\n",
      " 'IL - 17' 'KS - 02' 'KY - 04' 'IL - 09' 'NV - 02' 'FL - 06' 'CA - 37'\n",
      " 'MD - 04' 'TX - 28' 'CA - 32' 'TX - 18' 'NJ - 10' 'TX - 09' 'KS - 04'\n",
      " 'AZ - 02' 'MD - 08' 'NC - 07' 'WA - 04' 'TX - 23' 'PA - 13' 'NY - 14'\n",
      " 'AZ - 09' 'FL - 22' 'CT - 01' 'IA - 03' 'NY - 26' 'AK - 00' 'CA - 48'\n",
      " 'NJ - 06' 'TX - 22' 'IN - 01' 'WV - 02' 'MS - 02' 'AZ - 07' 'OH - 14'\n",
      " 'CA - 40' 'CO - 05' 'CA - 14' 'KY - 05' 'CA - 44' 'NY - 04' 'CA - 05'\n",
      " 'IL - 11' 'PA - 07' 'FL - 05' 'CA - 16' 'FL - 17' 'MN - 05' 'TN - 09'\n",
      " 'CA - 43' 'WV - 03' 'TN - 06' 'AR - 04' 'OH - 13' 'OH - 15' 'NE - 02'\n",
      " 'MD - 07' 'TX - 16' 'PA - 18' 'CA - 53' 'PA - 11' 'IN - 09' 'WA - 10'\n",
      " 'TX - 32' 'OH - 12' 'WI - 05' 'RI - 02' 'AZ - 08' 'MI - 13' 'SD - 04'\n",
      " 'NC - 12' 'TX - 35' 'TX - 33' 'WY - 02' 'DE - 01' 'ND - 07' 'SD - 01'\n",
      " 'WY - 01' 'MT - 01' 'WY - 03' 'SD - 03' 'AL - 20' 'AL - 08' 'CA - 00'\n",
      " 'IL - 00' 'CT - 20' 'SD - 07' 'MI - 00' 'NE - 06' 'CO - 45' 'MN - 00'\n",
      " 'DC - 08' 'CO - 25' 'MA - 00' 'IA - 07' 'NM - 08' 'NV - 12' 'CO - 18'\n",
      " 'AR - 06' 'NJ - 22' 'ME - 09' 'MS - 09' 'AL - 18' 'VA - 00' 'LA - 09'\n",
      " 'AZ - 49' 'OH - 21' 'AL - 13' 'GA - 17' 'ND - 17' 'OH - 00' 'AZ - 00'\n",
      " 'TX - 00' 'CT - 16' 'VT - 30' 'CO - 28' 'IA - 11' 'WA - 21' 'NH - 03'\n",
      " 'ND - 09' 'CO - 00' 'MS - 08' 'OK - 11' 'ME - 00' 'VT - 03' 'SC - 08'\n",
      " 'VT - 24' 'CO - 26' 'CO - 33' 'CO - 53'] 494\n",
      "['$16300-27300' '$7964-16300' '$0-7964' '$56313-150000' '$27300-56313'\n",
      " '$150,000-350,000' '$350,000-1 million' '$1-2 million' '$2-5 million'\n",
      " '$5-10 million'] 10\n",
      "['N' 'Y'] 2\n",
      "['Unanswered' 'White' 'Asian' 'Hispanic' 'Black or African American'\n",
      " 'American Indian or Alaska Native' 'Puerto Rican' 'Multi Group'\n",
      " 'Eskimo & Aleut'] 9\n",
      "['Unanswered' 'Non-Veteran' 'Veteran'] 3\n",
      "[ 1.  4. 10.  8. 27.  0. 21.  2.  6. 30.  3.  9.  5. 14. 15. 13.  7. 18.\n",
      " 40. 22. 11. 19. 16. 12. 33. 43. 32. 17. 20. 24. 23. 36. 31. 42. 26. 28.\n",
      " 35. 38. 37. 29. 34. 39. 25. 41.] 44\n"
     ]
    }
   ],
   "source": [
    "for col in data_cleaned.columns:\n",
    "    unique_col_vals = data_cleaned[col].unique()\n",
    "    print(unique_col_vals, len(unique_col_vals))"
   ]
  },
  {
   "cell_type": "code",
   "execution_count": 19,
   "metadata": {},
   "outputs": [
    {
     "data": {
      "text/plain": [
       "BusinessType      object\n",
       "CD                object\n",
       "LoanRange         object\n",
       "NonProfit         object\n",
       "RaceEthnicity     object\n",
       "Veteran           object\n",
       "JobsRetained     float64\n",
       "dtype: object"
      ]
     },
     "execution_count": 19,
     "metadata": {},
     "output_type": "execute_result"
    }
   ],
   "source": [
    "data_cleaned.dtypes"
   ]
  },
  {
   "cell_type": "code",
   "execution_count": 20,
   "metadata": {},
   "outputs": [],
   "source": [
    "# Transform columns using One-hot encoding\n",
    "col_transformer = ColumnTransformer(transformers=[('cat', OneHotEncoder(drop='first'), list(range(6)))], remainder='passthrough')\n",
    "\n",
    "data_transformed = col_transformer.fit_transform(data_cleaned)"
   ]
  },
  {
   "cell_type": "code",
   "execution_count": 21,
   "metadata": {},
   "outputs": [
    {
     "data": {
      "text/plain": [
       "(3766492, 531)"
      ]
     },
     "execution_count": 21,
     "metadata": {},
     "output_type": "execute_result"
    }
   ],
   "source": [
    "data_transformed.shape"
   ]
  },
  {
   "cell_type": "code",
   "execution_count": 26,
   "metadata": {},
   "outputs": [],
   "source": [
    "X = data_transformed[:, 0: -1].toarray()\n",
    "y = data_transformed[:, -1].toarray()"
   ]
  },
  {
   "cell_type": "code",
   "execution_count": 27,
   "metadata": {},
   "outputs": [],
   "source": [
    "business_type_dummies = X[:, :17]\n",
    "\n",
    "cd_dummies = X[:, 17:510]"
   ]
  },
  {
   "cell_type": "code",
   "execution_count": 28,
   "metadata": {},
   "outputs": [
    {
     "data": {
      "text/plain": [
       "((3766492, 17), (3766492, 493))"
      ]
     },
     "execution_count": 28,
     "metadata": {},
     "output_type": "execute_result"
    }
   ],
   "source": [
    "business_type_dummies.shape, cd_dummies.shape"
   ]
  },
  {
   "cell_type": "code",
   "execution_count": 29,
   "metadata": {},
   "outputs": [
    {
     "data": {
      "text/plain": [
       "PCA(n_components=5)"
      ]
     },
     "execution_count": 29,
     "metadata": {},
     "output_type": "execute_result"
    }
   ],
   "source": [
    "# PCA for business type\n",
    "pca_bt = PCA(n_components=5)\n",
    "pca_bt.fit(business_type_dummies)"
   ]
  },
  {
   "cell_type": "code",
   "execution_count": 30,
   "metadata": {},
   "outputs": [
    {
     "data": {
      "text/plain": [
       "array([0.36632278, 0.62045415, 0.80919478, 0.87855895, 0.92478679])"
      ]
     },
     "execution_count": 30,
     "metadata": {},
     "output_type": "execute_result"
    }
   ],
   "source": [
    "np.cumsum(pca_bt.explained_variance_ratio_)"
   ]
  },
  {
   "cell_type": "code",
   "execution_count": 31,
   "metadata": {},
   "outputs": [
    {
     "data": {
      "text/plain": [
       "PCA(n_components=15)"
      ]
     },
     "execution_count": 31,
     "metadata": {},
     "output_type": "execute_result"
    }
   ],
   "source": [
    "# PCA for CD\n",
    "pca_cd = PCA(n_components=15)\n",
    "pca_cd.fit(cd_dummies)"
   ]
  },
  {
   "cell_type": "code",
   "execution_count": 32,
   "metadata": {},
   "outputs": [
    {
     "data": {
      "text/plain": [
       "array([0.00687698, 0.01364437, 0.02006946, 0.02628477, 0.03233666,\n",
       "       0.03830905, 0.04400235, 0.04934024, 0.05449937, 0.05944089,\n",
       "       0.0642025 , 0.06886916, 0.07337865, 0.07784077, 0.08221901])"
      ]
     },
     "execution_count": 32,
     "metadata": {},
     "output_type": "execute_result"
    }
   ],
   "source": [
    "np.cumsum(pca_cd.explained_variance_ratio_)"
   ]
  },
  {
   "cell_type": "code",
   "execution_count": 33,
   "metadata": {},
   "outputs": [],
   "source": [
    "# cd_explained_variance_sum = np.cumsum(pca_cd.explained_variance_ratio_)\n",
    "# for i in range(cd_explained_variance_sum.shape[0]):\n",
    "#     if(round(cd_explained_variance_sum[i]) > .90):\n",
    "#         print(i, cd_explained_variance_sum[i])\n",
    "#         break"
   ]
  },
  {
   "cell_type": "code",
   "execution_count": 34,
   "metadata": {},
   "outputs": [],
   "source": [
    "# pca_NAICSCode = IncrementalPCA(n_components=5, batch_size=1000)\n",
    "# pca_NAICSCode.fit(NAICSCode_dummies)"
   ]
  },
  {
   "cell_type": "code",
   "execution_count": 35,
   "metadata": {},
   "outputs": [],
   "source": [
    "bt_pca_transformed = pca_bt.transform(business_type_dummies)\n",
    "cd_pca_transformed = pca_cd.transform(cd_dummies)"
   ]
  },
  {
   "cell_type": "code",
   "execution_count": 36,
   "metadata": {},
   "outputs": [
    {
     "data": {
      "text/plain": [
       "(3766492, 20)"
      ]
     },
     "execution_count": 36,
     "metadata": {},
     "output_type": "execute_result"
    }
   ],
   "source": [
    "X_reduced = X[:, 510:]\n",
    "X_reduced.shape"
   ]
  },
  {
   "cell_type": "code",
   "execution_count": 37,
   "metadata": {},
   "outputs": [],
   "source": [
    "X_reduced = np.hstack((cd_pca_transformed, X_reduced))\n",
    "X_reduced = np.hstack((bt_pca_transformed, X_reduced))"
   ]
  },
  {
   "cell_type": "code",
   "execution_count": 50,
   "metadata": {},
   "outputs": [
    {
     "name": "stderr",
     "output_type": "stream",
     "text": [
      "C:\\Users\\animathur\\AppData\\Roaming\\Python\\Python37\\site-packages\\ipykernel_launcher.py:1: RuntimeWarning: divide by zero encountered in log\n",
      "  \"\"\"Entry point for launching an IPython kernel.\n"
     ]
    }
   ],
   "source": [
    "X_train, X_validation, y_train, y_validation = train_test_split(X_reduced, y, test_size=0.2, random_state=42)"
   ]
  },
  {
   "cell_type": "code",
   "execution_count": 42,
   "metadata": {},
   "outputs": [
    {
     "data": {
      "text/plain": [
       "((3013193, 40), (753299, 40))"
      ]
     },
     "execution_count": 42,
     "metadata": {},
     "output_type": "execute_result"
    }
   ],
   "source": [
    "X_train.shape, X_validation.shape"
   ]
  },
  {
   "cell_type": "code",
   "execution_count": 43,
   "metadata": {},
   "outputs": [],
   "source": [
    "# loadings = pca.components_\n",
    "# num_pc = pca.n_features_\n",
    "# pc_list = [\"PC\"+str(i) for i in list(range(1, num_pc+1))]\n",
    "# loadings_df = pd.DataFrame.from_dict(dict(zip(pc_list, loadings)))\n",
    "# loadings_df['variable'] = X_train.columns.values\n",
    "# loadings_df = loadings_df.set_index('variable')\n",
    "# loadings_df"
   ]
  },
  {
   "cell_type": "code",
   "execution_count": 44,
   "metadata": {},
   "outputs": [],
   "source": [
    "np.savez('preprocessed_train_data', inputs=X_train, targets=y_train)\n",
    "np.savez('preprocessed_validation_data', inputs=X_validation, targets=y_validation)"
   ]
  },
  {
   "cell_type": "code",
   "execution_count": null,
   "metadata": {},
   "outputs": [],
   "source": []
  }
 ],
 "metadata": {
  "kernelspec": {
   "display_name": "Python 3",
   "language": "python",
   "name": "python3"
  },
  "language_info": {
   "codemirror_mode": {
    "name": "ipython",
    "version": 3
   },
   "file_extension": ".py",
   "mimetype": "text/x-python",
   "name": "python",
   "nbconvert_exporter": "python",
   "pygments_lexer": "ipython3",
   "version": "3.7.9"
  }
 },
 "nbformat": 4,
 "nbformat_minor": 4
}
