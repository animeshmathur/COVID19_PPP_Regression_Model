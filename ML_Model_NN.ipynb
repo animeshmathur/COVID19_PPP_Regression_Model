{
 "cells": [
  {
   "cell_type": "code",
   "execution_count": null,
   "metadata": {},
   "outputs": [],
   "source": [
    "import numpy as np\n",
    "import tensorflow as tf\n",
    "from sklearn.model_selection import train_test_split"
   ]
  },
  {
   "cell_type": "code",
   "execution_count": 5,
   "metadata": {},
   "outputs": [],
   "source": [
    "data_npz = np.load('./preprocessed/preprocessed_data_w.npz')\n",
    "X = data_npz['inputs'].astype(np.float)\n",
    "y = data_npz['targets'].astype(np.float)"
   ]
  },
  {
   "cell_type": "code",
   "execution_count": 6,
   "metadata": {},
   "outputs": [],
   "source": [
    "X_train, X_test, y_train, y_test = train_test_split(X, y, test_size=0.2, random_state=77)"
   ]
  },
  {
   "cell_type": "code",
   "execution_count": 9,
   "metadata": {},
   "outputs": [],
   "source": [
    "num_hidden_layers = 50\n",
    "num_outputs = 1\n",
    "\n",
    "epochs = 20\n",
    "\n",
    "early_stopping = tf.keras.callbacks.EarlyStopping(patience=2)\n",
    "\n",
    "model = tf.keras.Sequential([\n",
    "    tf.keras.layers.Dense(num_hidden_layers, activation='relu'),\n",
    "    tf.keras.layers.Dense(num_hidden_layers, activation='relu'),\n",
    "    tf.keras.layers.Dense(num_outputs, activation='relu')\n",
    "])"
   ]
  },
  {
   "cell_type": "code",
   "execution_count": 10,
   "metadata": {},
   "outputs": [
    {
     "name": "stdout",
     "output_type": "stream",
     "text": [
      "Epoch 1/20\n",
      "14099/14099 - 22s - loss: 0.2746 - accuracy: 0.2372 - val_loss: 0.2591 - val_accuracy: 0.2358\n",
      "Epoch 2/20\n",
      "14099/14099 - 25s - loss: 0.2573 - accuracy: 0.2371 - val_loss: 0.2537 - val_accuracy: 0.2358\n",
      "Epoch 3/20\n",
      "14099/14099 - 25s - loss: 0.2541 - accuracy: 0.2372 - val_loss: 0.2522 - val_accuracy: 0.2358\n",
      "Epoch 4/20\n",
      "14099/14099 - 26s - loss: 0.2521 - accuracy: 0.2371 - val_loss: 0.2507 - val_accuracy: 0.2358\n",
      "Epoch 5/20\n",
      "14099/14099 - 27s - loss: 0.2508 - accuracy: 0.2371 - val_loss: 0.2565 - val_accuracy: 0.2357\n",
      "Epoch 6/20\n",
      "14099/14099 - 27s - loss: 0.2502 - accuracy: 0.2371 - val_loss: 0.2548 - val_accuracy: 0.2358\n"
     ]
    },
    {
     "data": {
      "text/plain": [
       "<tensorflow.python.keras.callbacks.History at 0x248a5983808>"
      ]
     },
     "execution_count": 10,
     "metadata": {},
     "output_type": "execute_result"
    }
   ],
   "source": [
    "model.compile(\n",
    "    loss=tf.keras.losses.MeanSquaredLogarithmicError(),\n",
    "    optimizer='adam',\n",
    "    metrics='accuracy'\n",
    ")\n",
    "\n",
    "model.fit(X_train, \n",
    "          y_train, \n",
    "          epochs=epochs, \n",
    "          validation_data=(X_test, y_test),\n",
    "          callbacks=[early_stopping],\n",
    "          verbose=2)"
   ]
  },
  {
   "cell_type": "code",
   "execution_count": null,
   "metadata": {},
   "outputs": [],
   "source": []
  }
 ],
 "metadata": {
  "kernelspec": {
   "display_name": "py3-TensorFlow2",
   "language": "python",
   "name": "py3-tensorflow2"
  },
  "language_info": {
   "codemirror_mode": {
    "name": "ipython",
    "version": 3
   },
   "file_extension": ".py",
   "mimetype": "text/x-python",
   "name": "python",
   "nbconvert_exporter": "python",
   "pygments_lexer": "ipython3",
   "version": "3.7.9"
  }
 },
 "nbformat": 4,
 "nbformat_minor": 4
}
